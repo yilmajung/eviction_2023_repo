{
 "cells": [
  {
   "cell_type": "code",
   "execution_count": 4,
   "metadata": {},
   "outputs": [],
   "source": [
    "import pandas as pd\n",
    "import numpy as np\n",
    "import geopandas as gpd"
   ]
  },
  {
   "cell_type": "code",
   "execution_count": 5,
   "metadata": {},
   "outputs": [],
   "source": [
    "df = gpd.read_file('data/eviction_count_bg_2021.geojson')"
   ]
  },
  {
   "cell_type": "code",
   "execution_count": 14,
   "metadata": {},
   "outputs": [],
   "source": [
    "# Select required columns and convert df_evic to eviction count dataframe by CBG\n",
    "df_nonpay = df[['GEOID','geometry','plaintiff_name', 'case_number', 'amount_filed', 'X', 'Y']]\n",
    "df_other = df_nonpay.copy()\n",
    "\n",
    "# Remove rows with 'amount_filed' = 'Not Non-Payment of Rent'\n",
    "df_nonpay = df_nonpay[df_nonpay['amount_filed'] != 'Not Non-Payment of Rent']\n",
    "\n",
    "# Select rows with 'amount_filed' = 'Not Non-Payment of Rent'\n",
    "df_other = df_other[df_other['amount_filed'] == 'Not Non-Payment of Rent']\n",
    "\n",
    "# Drop 'amount_filed' column\n",
    "df_nonpay = df_nonpay.drop(columns=['amount_filed'])\n",
    "df_other = df_other.drop(columns=['amount_filed'])"
   ]
  },
  {
   "cell_type": "code",
   "execution_count": 31,
   "metadata": {},
   "outputs": [],
   "source": [
    "# Extract top 100 eviction filing plaintiff names\n",
    "df_nonpay_100_filer = pd.DataFrame(df_nonpay.groupby('plaintiff_name')['case_number'].count().sort_values(ascending=False)).reset_index().head(100)\n",
    "\n",
    "# Extract location information by plaintiff name\n",
    "df_nonpay_loc = df_nonpay.groupby('plaintiff_name').first().reset_index()[['plaintiff_name', 'X', 'Y']]\n",
    "\n",
    "# Merge df_100_filer with df_loc\n",
    "df_nonpay_100_filer = pd.merge(df_nonpay_100_filer, df_nonpay_loc, on='plaintiff_name', how='left')\n",
    "\n",
    "# Extract top 100 eviction filing plaintiff names (other)\n",
    "df_other_100_filer = pd.DataFrame(df_other.groupby('plaintiff_name')['case_number'].count().sort_values(ascending=False)).reset_index().head(100)\n",
    "\n",
    "# Extract location information by plaintiff name (other)\n",
    "df_other_loc = df_other.groupby('plaintiff_name').first().reset_index()[['plaintiff_name', 'X', 'Y']]\n",
    "\n",
    "# Merge df_100_filer with df_loc (other)\n",
    "df_other_100_filer = pd.merge(df_other_100_filer, df_other_loc, on='plaintiff_name', how='left')"
   ]
  },
  {
   "cell_type": "code",
   "execution_count": 32,
   "metadata": {},
   "outputs": [
    {
     "data": {
      "text/plain": [
       "(100, 4)"
      ]
     },
     "execution_count": 32,
     "metadata": {},
     "output_type": "execute_result"
    }
   ],
   "source": [
    "df_nonpay_100_filer.shape"
   ]
  },
  {
   "cell_type": "code",
   "execution_count": 33,
   "metadata": {},
   "outputs": [
    {
     "data": {
      "text/plain": [
       "(100, 4)"
      ]
     },
     "execution_count": 33,
     "metadata": {},
     "output_type": "execute_result"
    }
   ],
   "source": [
    "df_other_100_filer.shape"
   ]
  },
  {
   "cell_type": "code",
   "execution_count": 34,
   "metadata": {},
   "outputs": [
    {
     "data": {
      "text/html": [
       "<div>\n",
       "<style scoped>\n",
       "    .dataframe tbody tr th:only-of-type {\n",
       "        vertical-align: middle;\n",
       "    }\n",
       "\n",
       "    .dataframe tbody tr th {\n",
       "        vertical-align: top;\n",
       "    }\n",
       "\n",
       "    .dataframe thead th {\n",
       "        text-align: right;\n",
       "    }\n",
       "</style>\n",
       "<table border=\"1\" class=\"dataframe\">\n",
       "  <thead>\n",
       "    <tr style=\"text-align: right;\">\n",
       "      <th></th>\n",
       "      <th>plaintiff_name</th>\n",
       "      <th>case_number</th>\n",
       "      <th>X</th>\n",
       "      <th>Y</th>\n",
       "    </tr>\n",
       "  </thead>\n",
       "  <tbody>\n",
       "    <tr>\n",
       "      <th>0</th>\n",
       "      <td>ALDEN SHORT INC</td>\n",
       "      <td>348</td>\n",
       "      <td>-96.611773</td>\n",
       "      <td>32.780678</td>\n",
       "    </tr>\n",
       "    <tr>\n",
       "      <th>1</th>\n",
       "      <td>THE MUSE APARTMENTS</td>\n",
       "      <td>246</td>\n",
       "      <td>-96.869554</td>\n",
       "      <td>32.705833</td>\n",
       "    </tr>\n",
       "    <tr>\n",
       "      <th>2</th>\n",
       "      <td>MARBLETREE APARTMENTS</td>\n",
       "      <td>150</td>\n",
       "      <td>-96.989431</td>\n",
       "      <td>32.863001</td>\n",
       "    </tr>\n",
       "    <tr>\n",
       "      <th>3</th>\n",
       "      <td>THE BRANDT</td>\n",
       "      <td>141</td>\n",
       "      <td>-96.989431</td>\n",
       "      <td>32.863001</td>\n",
       "    </tr>\n",
       "    <tr>\n",
       "      <th>4</th>\n",
       "      <td>POLARIS TX16 LLC</td>\n",
       "      <td>134</td>\n",
       "      <td>-96.717660</td>\n",
       "      <td>32.908237</td>\n",
       "    </tr>\n",
       "  </tbody>\n",
       "</table>\n",
       "</div>"
      ],
      "text/plain": [
       "          plaintiff_name  case_number          X          Y\n",
       "0        ALDEN SHORT INC          348 -96.611773  32.780678\n",
       "1    THE MUSE APARTMENTS          246 -96.869554  32.705833\n",
       "2  MARBLETREE APARTMENTS          150 -96.989431  32.863001\n",
       "3             THE BRANDT          141 -96.989431  32.863001\n",
       "4       POLARIS TX16 LLC          134 -96.717660  32.908237"
      ]
     },
     "execution_count": 34,
     "metadata": {},
     "output_type": "execute_result"
    }
   ],
   "source": [
    "df_other_100_filer.head()"
   ]
  },
  {
   "cell_type": "code",
   "execution_count": 35,
   "metadata": {},
   "outputs": [
    {
     "data": {
      "text/html": [
       "<div>\n",
       "<style scoped>\n",
       "    .dataframe tbody tr th:only-of-type {\n",
       "        vertical-align: middle;\n",
       "    }\n",
       "\n",
       "    .dataframe tbody tr th {\n",
       "        vertical-align: top;\n",
       "    }\n",
       "\n",
       "    .dataframe thead th {\n",
       "        text-align: right;\n",
       "    }\n",
       "</style>\n",
       "<table border=\"1\" class=\"dataframe\">\n",
       "  <thead>\n",
       "    <tr style=\"text-align: right;\">\n",
       "      <th></th>\n",
       "      <th>plaintiff_name</th>\n",
       "      <th>case_number</th>\n",
       "      <th>X</th>\n",
       "      <th>Y</th>\n",
       "    </tr>\n",
       "  </thead>\n",
       "  <tbody>\n",
       "    <tr>\n",
       "      <th>0</th>\n",
       "      <td>ALDEN SHORT INC</td>\n",
       "      <td>1798</td>\n",
       "      <td>-96.892691</td>\n",
       "      <td>32.930098</td>\n",
       "    </tr>\n",
       "    <tr>\n",
       "      <th>1</th>\n",
       "      <td>VINEYARDS AT FOREST EDGE</td>\n",
       "      <td>1371</td>\n",
       "      <td>-96.724004</td>\n",
       "      <td>32.909431</td>\n",
       "    </tr>\n",
       "    <tr>\n",
       "      <th>2</th>\n",
       "      <td>EYAL DALLAS HOLDINGS LLC</td>\n",
       "      <td>648</td>\n",
       "      <td>-96.649463</td>\n",
       "      <td>32.855178</td>\n",
       "    </tr>\n",
       "    <tr>\n",
       "      <th>3</th>\n",
       "      <td>POLARIS TX16 LLC</td>\n",
       "      <td>642</td>\n",
       "      <td>-96.717660</td>\n",
       "      <td>32.908237</td>\n",
       "    </tr>\n",
       "    <tr>\n",
       "      <th>4</th>\n",
       "      <td>LAKESIDE AT NORTHPARK</td>\n",
       "      <td>543</td>\n",
       "      <td>-96.768520</td>\n",
       "      <td>32.878125</td>\n",
       "    </tr>\n",
       "  </tbody>\n",
       "</table>\n",
       "</div>"
      ],
      "text/plain": [
       "             plaintiff_name  case_number          X          Y\n",
       "0           ALDEN SHORT INC         1798 -96.892691  32.930098\n",
       "1  VINEYARDS AT FOREST EDGE         1371 -96.724004  32.909431\n",
       "2  EYAL DALLAS HOLDINGS LLC          648 -96.649463  32.855178\n",
       "3          POLARIS TX16 LLC          642 -96.717660  32.908237\n",
       "4     LAKESIDE AT NORTHPARK          543 -96.768520  32.878125"
      ]
     },
     "execution_count": 35,
     "metadata": {},
     "output_type": "execute_result"
    }
   ],
   "source": [
    "df_nonpay_100_filer.head()"
   ]
  },
  {
   "cell_type": "code",
   "execution_count": 36,
   "metadata": {},
   "outputs": [],
   "source": [
    "df_nonpay_100_filer.to_csv('data/df_nonpay_100_filer.csv', index=False)\n",
    "df_other_100_filer.to_csv('data/df_other_100_filer.csv', index=False)"
   ]
  }
 ],
 "metadata": {
  "kernelspec": {
   "display_name": "base",
   "language": "python",
   "name": "python3"
  },
  "language_info": {
   "codemirror_mode": {
    "name": "ipython",
    "version": 3
   },
   "file_extension": ".py",
   "mimetype": "text/x-python",
   "name": "python",
   "nbconvert_exporter": "python",
   "pygments_lexer": "ipython3",
   "version": "3.11.4"
  },
  "orig_nbformat": 4
 },
 "nbformat": 4,
 "nbformat_minor": 2
}
