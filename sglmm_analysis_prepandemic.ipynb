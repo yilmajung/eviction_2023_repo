{
 "cells": [
  {
   "cell_type": "code",
   "execution_count": 1,
   "metadata": {},
   "outputs": [
    {
     "data": {
      "text/plain": [
       "{'DXF': 'rw',\n",
       " 'CSV': 'raw',\n",
       " 'OpenFileGDB': 'raw',\n",
       " 'ESRIJSON': 'r',\n",
       " 'ESRI Shapefile': 'raw',\n",
       " 'FlatGeobuf': 'raw',\n",
       " 'GeoJSON': 'raw',\n",
       " 'GeoJSONSeq': 'raw',\n",
       " 'GPKG': 'raw',\n",
       " 'GML': 'rw',\n",
       " 'OGR_GMT': 'rw',\n",
       " 'GPX': 'rw',\n",
       " 'MapInfo File': 'raw',\n",
       " 'DGN': 'raw',\n",
       " 'S57': 'r',\n",
       " 'SQLite': 'raw',\n",
       " 'TopoJSON': 'r'}"
      ]
     },
     "execution_count": 1,
     "metadata": {},
     "output_type": "execute_result"
    }
   ],
   "source": [
    "import pandas as pd\n",
    "import numpy as np\n",
    "import geopandas as gpd\n",
    "import fiona\n",
    "fiona.supported_drivers"
   ]
  },
  {
   "cell_type": "code",
   "execution_count": 76,
   "metadata": {},
   "outputs": [],
   "source": [
    "# Load ACS data and Eviction data\n",
    "df_acs = pd.read_csv('data/acs_data_5y_2019_revised.csv')\n",
    "df_acs_2016 = pd.read_csv('data/acs_data_5y_2016.csv')\n",
    "df_evic = gpd.read_file('data/eviction_count_bg_2019.geojson')"
   ]
  },
  {
   "cell_type": "code",
   "execution_count": 78,
   "metadata": {},
   "outputs": [
    {
     "data": {
      "text/plain": [
       "0"
      ]
     },
     "execution_count": 78,
     "metadata": {},
     "output_type": "execute_result"
    }
   ],
   "source": [
    "df_evic['geometry'].isnull().sum()"
   ]
  },
  {
   "cell_type": "code",
   "execution_count": 79,
   "metadata": {},
   "outputs": [
    {
     "name": "stdout",
     "output_type": "stream",
     "text": [
      "(1669, 80)\n",
      "(1669, 7)\n",
      "(151590, 42)\n"
     ]
    }
   ],
   "source": [
    "print(df_acs.shape)\n",
    "print(df_acs_2016.shape)\n",
    "print(df_evic.shape)"
   ]
  },
  {
   "cell_type": "code",
   "execution_count": 80,
   "metadata": {},
   "outputs": [
    {
     "data": {
      "text/plain": [
       "(121371, 42)"
      ]
     },
     "execution_count": 80,
     "metadata": {},
     "output_type": "execute_result"
    }
   ],
   "source": [
    "# Filter out the filed_year 2020 and 2021\n",
    "df_evic = df_evic[df_evic['filed_year'] < 2020]\n",
    "df_evic.shape"
   ]
  },
  {
   "cell_type": "code",
   "execution_count": 81,
   "metadata": {},
   "outputs": [],
   "source": [
    "# Select required columns and convert df_evic to eviction count dataframe by CBG\n",
    "df_evic2 = df_evic[['GEOID','geometry','case_number','amount_filed']]\n",
    "df_evic3 = df_evic2.copy()\n",
    "\n",
    "# Remove rows with 'amount_filed' = 'Not Non-Payment of Rent'\n",
    "df_evic2 = df_evic2[df_evic2['amount_filed'] != 'Not Non-Payment of Rent']\n",
    "\n",
    "# Select rows with 'amount_filed' = 'Not Non-Payment of Rent'\n",
    "df_evic3 = df_evic3[df_evic3['amount_filed'] == 'Not Non-Payment of Rent']\n",
    "\n",
    "# Convert 'amount_filed' to numeric\n",
    "df_evic2['amount_filed'] = pd.to_numeric(df_evic2['amount_filed'])\n",
    "\n",
    "# Aggregate eviction count and average amount_filed by CBG\n",
    "df_evic2 = df_evic2.dissolve(by='GEOID', aggfunc={'case_number':'count', 'amount_filed':'mean'})\n",
    "df_evic3 = df_evic3.drop(columns=['amount_filed'])\n",
    "df_evic3 = df_evic3.dissolve(by='GEOID', aggfunc={'case_number':'count'})"
   ]
  },
  {
   "cell_type": "code",
   "execution_count": 90,
   "metadata": {},
   "outputs": [
    {
     "data": {
      "text/html": [
       "<div>\n",
       "<style scoped>\n",
       "    .dataframe tbody tr th:only-of-type {\n",
       "        vertical-align: middle;\n",
       "    }\n",
       "\n",
       "    .dataframe tbody tr th {\n",
       "        vertical-align: top;\n",
       "    }\n",
       "\n",
       "    .dataframe thead th {\n",
       "        text-align: right;\n",
       "    }\n",
       "</style>\n",
       "<table border=\"1\" class=\"dataframe\">\n",
       "  <thead>\n",
       "    <tr style=\"text-align: right;\">\n",
       "      <th></th>\n",
       "      <th>geometry</th>\n",
       "      <th>case_number</th>\n",
       "    </tr>\n",
       "    <tr>\n",
       "      <th>GEOID</th>\n",
       "      <th></th>\n",
       "      <th></th>\n",
       "    </tr>\n",
       "  </thead>\n",
       "  <tbody>\n",
       "    <tr>\n",
       "      <th>481130001001</th>\n",
       "      <td>POLYGON ((-96.73536 32.82211, -96.73521 32.822...</td>\n",
       "      <td>11</td>\n",
       "    </tr>\n",
       "    <tr>\n",
       "      <th>481130001002</th>\n",
       "      <td>POLYGON ((-96.75299 32.81595, -96.75298 32.816...</td>\n",
       "      <td>3</td>\n",
       "    </tr>\n",
       "    <tr>\n",
       "      <th>481130002011</th>\n",
       "      <td>POLYGON ((-96.76147 32.83654, -96.76145 32.836...</td>\n",
       "      <td>3</td>\n",
       "    </tr>\n",
       "    <tr>\n",
       "      <th>481130002021</th>\n",
       "      <td>POLYGON ((-96.77015 32.82699, -96.76945 32.827...</td>\n",
       "      <td>4</td>\n",
       "    </tr>\n",
       "    <tr>\n",
       "      <th>481130002022</th>\n",
       "      <td>POLYGON ((-96.77013 32.83392, -96.77012 32.834...</td>\n",
       "      <td>5</td>\n",
       "    </tr>\n",
       "  </tbody>\n",
       "</table>\n",
       "</div>"
      ],
      "text/plain": [
       "                                                       geometry  case_number\n",
       "GEOID                                                                       \n",
       "481130001001  POLYGON ((-96.73536 32.82211, -96.73521 32.822...           11\n",
       "481130001002  POLYGON ((-96.75299 32.81595, -96.75298 32.816...            3\n",
       "481130002011  POLYGON ((-96.76147 32.83654, -96.76145 32.836...            3\n",
       "481130002021  POLYGON ((-96.77015 32.82699, -96.76945 32.827...            4\n",
       "481130002022  POLYGON ((-96.77013 32.83392, -96.77012 32.834...            5"
      ]
     },
     "execution_count": 90,
     "metadata": {},
     "output_type": "execute_result"
    }
   ],
   "source": [
    "df_evic3.head()"
   ]
  },
  {
   "cell_type": "code",
   "execution_count": 82,
   "metadata": {},
   "outputs": [
    {
     "data": {
      "text/html": [
       "<div>\n",
       "<style scoped>\n",
       "    .dataframe tbody tr th:only-of-type {\n",
       "        vertical-align: middle;\n",
       "    }\n",
       "\n",
       "    .dataframe tbody tr th {\n",
       "        vertical-align: top;\n",
       "    }\n",
       "\n",
       "    .dataframe thead th {\n",
       "        text-align: right;\n",
       "    }\n",
       "</style>\n",
       "<table border=\"1\" class=\"dataframe\">\n",
       "  <thead>\n",
       "    <tr style=\"text-align: right;\">\n",
       "      <th></th>\n",
       "      <th>geometry</th>\n",
       "      <th>case_number</th>\n",
       "      <th>amount_filed</th>\n",
       "    </tr>\n",
       "    <tr>\n",
       "      <th>GEOID</th>\n",
       "      <th></th>\n",
       "      <th></th>\n",
       "      <th></th>\n",
       "    </tr>\n",
       "  </thead>\n",
       "  <tbody>\n",
       "    <tr>\n",
       "      <th>481130001001</th>\n",
       "      <td>POLYGON ((-96.73521 32.82215, -96.73499 32.822...</td>\n",
       "      <td>21</td>\n",
       "      <td>1385.051905</td>\n",
       "    </tr>\n",
       "    <tr>\n",
       "      <th>481130001002</th>\n",
       "      <td>POLYGON ((-96.75130 32.81619, -96.75091 32.816...</td>\n",
       "      <td>34</td>\n",
       "      <td>2195.967059</td>\n",
       "    </tr>\n",
       "    <tr>\n",
       "      <th>481130001003</th>\n",
       "      <td>POLYGON ((-96.75291 32.81719, -96.75291 32.818...</td>\n",
       "      <td>1</td>\n",
       "      <td>1500.000000</td>\n",
       "    </tr>\n",
       "    <tr>\n",
       "      <th>481130002011</th>\n",
       "      <td>POLYGON ((-96.76141 32.83705, -96.76138 32.837...</td>\n",
       "      <td>8</td>\n",
       "      <td>1315.285000</td>\n",
       "    </tr>\n",
       "    <tr>\n",
       "      <th>481130002012</th>\n",
       "      <td>POLYGON ((-96.76154 32.83080, -96.76153 32.831...</td>\n",
       "      <td>1</td>\n",
       "      <td>1200.000000</td>\n",
       "    </tr>\n",
       "  </tbody>\n",
       "</table>\n",
       "</div>"
      ],
      "text/plain": [
       "                                                       geometry  case_number  \\\n",
       "GEOID                                                                          \n",
       "481130001001  POLYGON ((-96.73521 32.82215, -96.73499 32.822...           21   \n",
       "481130001002  POLYGON ((-96.75130 32.81619, -96.75091 32.816...           34   \n",
       "481130001003  POLYGON ((-96.75291 32.81719, -96.75291 32.818...            1   \n",
       "481130002011  POLYGON ((-96.76141 32.83705, -96.76138 32.837...            8   \n",
       "481130002012  POLYGON ((-96.76154 32.83080, -96.76153 32.831...            1   \n",
       "\n",
       "              amount_filed  \n",
       "GEOID                       \n",
       "481130001001   1385.051905  \n",
       "481130001002   2195.967059  \n",
       "481130001003   1500.000000  \n",
       "481130002011   1315.285000  \n",
       "481130002012   1200.000000  "
      ]
     },
     "execution_count": 82,
     "metadata": {},
     "output_type": "execute_result"
    }
   ],
   "source": [
    "df_evic2.head()"
   ]
  },
  {
   "cell_type": "code",
   "execution_count": 85,
   "metadata": {},
   "outputs": [],
   "source": [
    "# Add leading zeros to tract column\n",
    "df_acs['tract'] = df_acs['tract'].astype(str)\n",
    "df_acs_2016['tract'] = df_acs_2016['tract'].astype(str)\n",
    "df_acs['tract'] = df_acs['tract'].str.zfill(6)\n",
    "df_acs_2016['tract'] = df_acs_2016['tract'].str.zfill(6)\n",
    "\n",
    "# Convert state, county, tract, block group to string\n",
    "df_acs['state'] = df_acs['state'].astype(str)\n",
    "df_acs['county'] = df_acs['county'].astype(str)\n",
    "df_acs['block group'] = df_acs['block group'].astype(str)\n",
    "\n",
    "df_acs_2016['state'] = df_acs_2016['state'].astype(str)\n",
    "df_acs_2016['county'] = df_acs_2016['county'].astype(str)\n",
    "df_acs_2016['block group'] = df_acs_2016['block group'].astype(str)\n",
    "\n",
    "# Create GEOID column\n",
    "df_acs['GEOID'] = df_acs['state'] + df_acs['county'] + df_acs['tract'] + df_acs['block group']\n",
    "df_acs_2016['GEOID'] = df_acs_2016['state'] + df_acs_2016['county'] + df_acs_2016['tract'] + df_acs_2016['block group']\n",
    "\n",
    "# Create GEOID_tract column\n",
    "df_acs['GEOID_tract'] = df_acs['state'] + df_acs['county'] + df_acs['tract']\n",
    "df_acs_2016['GEOID_tract'] = df_acs_2016['state'] + df_acs_2016['county'] + df_acs_2016['tract']\n",
    "\n",
    "# Change the column names in df_acs_2016 to match df_acs\n",
    "df_acs_2016 = df_acs_2016.rename(columns={'median_gross_rent':'median_gross_rent_2016',\n",
    "                                          'housing_median_value':'housing_median_value_2016'})"
   ]
  },
  {
   "cell_type": "code",
   "execution_count": 86,
   "metadata": {},
   "outputs": [
    {
     "name": "stderr",
     "output_type": "stream",
     "text": [
      "/var/folders/y6/z9h695vx2w3gbjh7z32h4j9m0000gn/T/ipykernel_59393/2569063516.py:8: SettingWithCopyWarning: \n",
      "A value is trying to be set on a copy of a slice from a DataFrame\n",
      "\n",
      "See the caveats in the documentation: https://pandas.pydata.org/pandas-docs/stable/user_guide/indexing.html#returning-a-view-versus-a-copy\n",
      "  df_acs_tract_2016['median_gross_rent_2016'][df_acs_tract_2016['median_gross_rent_2016'] < 0] = np.nan\n",
      "/var/folders/y6/z9h695vx2w3gbjh7z32h4j9m0000gn/T/ipykernel_59393/2569063516.py:9: SettingWithCopyWarning: \n",
      "A value is trying to be set on a copy of a slice from a DataFrame\n",
      "\n",
      "See the caveats in the documentation: https://pandas.pydata.org/pandas-docs/stable/user_guide/indexing.html#returning-a-view-versus-a-copy\n",
      "  df_acs_tract_2019['median_gross_rent'][df_acs_tract_2019['median_gross_rent'] < 0] = np.nan\n",
      "/var/folders/y6/z9h695vx2w3gbjh7z32h4j9m0000gn/T/ipykernel_59393/2569063516.py:10: SettingWithCopyWarning: \n",
      "A value is trying to be set on a copy of a slice from a DataFrame\n",
      "\n",
      "See the caveats in the documentation: https://pandas.pydata.org/pandas-docs/stable/user_guide/indexing.html#returning-a-view-versus-a-copy\n",
      "  df_acs_tract_2016['housing_median_value_2016'][df_acs_tract_2016['housing_median_value_2016'] < 0] = np.nan\n",
      "/var/folders/y6/z9h695vx2w3gbjh7z32h4j9m0000gn/T/ipykernel_59393/2569063516.py:11: SettingWithCopyWarning: \n",
      "A value is trying to be set on a copy of a slice from a DataFrame\n",
      "\n",
      "See the caveats in the documentation: https://pandas.pydata.org/pandas-docs/stable/user_guide/indexing.html#returning-a-view-versus-a-copy\n",
      "  df_acs_tract_2019['housing_median_value'][df_acs_tract_2019['housing_median_value'] < 0] = np.nan\n"
     ]
    }
   ],
   "source": [
    "# Compare median rent in 2016 and 2019 at the tract-level \n",
    "# (At the census block group level, it is challenging to clearly identify the change in boundaries)\n",
    "# Create a tract-level median gross rent dataframe for 2016 and 2019\n",
    "df_acs_tract_2016 = df_acs_2016[['GEOID_tract','median_gross_rent_2016','housing_median_value_2016']].copy()\n",
    "df_acs_tract_2019 = df_acs[['GEOID_tract','median_gross_rent','housing_median_value']].copy()\n",
    "\n",
    "# Replace negative values with NaN\n",
    "df_acs_tract_2016['median_gross_rent_2016'][df_acs_tract_2016['median_gross_rent_2016'] < 0] = np.nan\n",
    "df_acs_tract_2019['median_gross_rent'][df_acs_tract_2019['median_gross_rent'] < 0] = np.nan\n",
    "df_acs_tract_2016['housing_median_value_2016'][df_acs_tract_2016['housing_median_value_2016'] < 0] = np.nan\n",
    "df_acs_tract_2019['housing_median_value'][df_acs_tract_2019['housing_median_value'] < 0] = np.nan\n",
    "\n",
    "# Group by tract and sum\n",
    "df_acs_tract_2016 = df_acs_tract_2016.groupby('GEOID_tract').sum().reset_index()\n",
    "df_acs_tract_2019 = df_acs_tract_2019.groupby('GEOID_tract').sum().reset_index()"
   ]
  },
  {
   "cell_type": "code",
   "execution_count": 87,
   "metadata": {},
   "outputs": [
    {
     "name": "stdout",
     "output_type": "stream",
     "text": [
      "(529, 3)\n",
      "(529, 3)\n"
     ]
    }
   ],
   "source": [
    "print(df_acs_tract_2016.shape)\n",
    "print(df_acs_tract_2019.shape)"
   ]
  },
  {
   "cell_type": "code",
   "execution_count": 88,
   "metadata": {},
   "outputs": [],
   "source": [
    "df_tract_temp = pd.merge(df_acs_tract_2016, df_acs_tract_2019, on='GEOID_tract', how='left')\n",
    "\n",
    "# Change the column name\n",
    "df_tract_temp = df_tract_temp.rename(columns={'median_gross_rent':'median_gross_rent_tract_2019', \n",
    "                        'median_gross_rent_2016':'median_gross_rent_tract_2016',\n",
    "                        'housing_median_value':'housing_median_value_tract_2019',\n",
    "                        'housing_median_value_2016':'housing_median_value_tract_2016'})\n",
    "\n",
    "df_acs = pd.merge(df_acs, df_tract_temp, on='GEOID_tract', how='left')"
   ]
  },
  {
   "cell_type": "code",
   "execution_count": 92,
   "metadata": {},
   "outputs": [
    {
     "name": "stdout",
     "output_type": "stream",
     "text": [
      "(1554, 3)\n",
      "(1493, 2)\n"
     ]
    }
   ],
   "source": [
    "print(df_evic2.shape)\n",
    "print(df_evic3.shape)"
   ]
  },
  {
   "cell_type": "code",
   "execution_count": 91,
   "metadata": {},
   "outputs": [
    {
     "data": {
      "text/plain": [
       "(1669, 86)"
      ]
     },
     "execution_count": 91,
     "metadata": {},
     "output_type": "execute_result"
    }
   ],
   "source": [
    "df_acs.shape"
   ]
  },
  {
   "cell_type": "code",
   "execution_count": 89,
   "metadata": {},
   "outputs": [
    {
     "data": {
      "text/html": [
       "<div>\n",
       "<style scoped>\n",
       "    .dataframe tbody tr th:only-of-type {\n",
       "        vertical-align: middle;\n",
       "    }\n",
       "\n",
       "    .dataframe tbody tr th {\n",
       "        vertical-align: top;\n",
       "    }\n",
       "\n",
       "    .dataframe thead th {\n",
       "        text-align: right;\n",
       "    }\n",
       "</style>\n",
       "<table border=\"1\" class=\"dataframe\">\n",
       "  <thead>\n",
       "    <tr style=\"text-align: right;\">\n",
       "      <th></th>\n",
       "      <th>NAME</th>\n",
       "      <th>state</th>\n",
       "      <th>county</th>\n",
       "      <th>tract</th>\n",
       "      <th>block group</th>\n",
       "      <th>total_population</th>\n",
       "      <th>female_population</th>\n",
       "      <th>median_age</th>\n",
       "      <th>race_white</th>\n",
       "      <th>race_black</th>\n",
       "      <th>...</th>\n",
       "      <th>hh_w_pai</th>\n",
       "      <th>hh_w_foodstamp_SNAP</th>\n",
       "      <th>median_contract_rent</th>\n",
       "      <th>median_gross_rent</th>\n",
       "      <th>GEOID</th>\n",
       "      <th>GEOID_tract</th>\n",
       "      <th>median_gross_rent_tract_2016</th>\n",
       "      <th>housing_median_value_tract_2016</th>\n",
       "      <th>median_gross_rent_tract_2019</th>\n",
       "      <th>housing_median_value_tract_2019</th>\n",
       "    </tr>\n",
       "  </thead>\n",
       "  <tbody>\n",
       "    <tr>\n",
       "      <th>0</th>\n",
       "      <td>Block Group 3, Census Tract 142.03, Dallas Cou...</td>\n",
       "      <td>48</td>\n",
       "      <td>113</td>\n",
       "      <td>014203</td>\n",
       "      <td>3</td>\n",
       "      <td>1699</td>\n",
       "      <td>715</td>\n",
       "      <td>33.1</td>\n",
       "      <td>1176</td>\n",
       "      <td>62</td>\n",
       "      <td>...</td>\n",
       "      <td>0</td>\n",
       "      <td>50</td>\n",
       "      <td>886</td>\n",
       "      <td>1085</td>\n",
       "      <td>481130142033</td>\n",
       "      <td>48113014203</td>\n",
       "      <td>861.0</td>\n",
       "      <td>447200.0</td>\n",
       "      <td>2845.0</td>\n",
       "      <td>573900.0</td>\n",
       "    </tr>\n",
       "    <tr>\n",
       "      <th>1</th>\n",
       "      <td>Block Group 1, Census Tract 142.03, Dallas Cou...</td>\n",
       "      <td>48</td>\n",
       "      <td>113</td>\n",
       "      <td>014203</td>\n",
       "      <td>1</td>\n",
       "      <td>712</td>\n",
       "      <td>240</td>\n",
       "      <td>43.4</td>\n",
       "      <td>462</td>\n",
       "      <td>34</td>\n",
       "      <td>...</td>\n",
       "      <td>18</td>\n",
       "      <td>26</td>\n",
       "      <td>1380</td>\n",
       "      <td>1760</td>\n",
       "      <td>481130142031</td>\n",
       "      <td>48113014203</td>\n",
       "      <td>861.0</td>\n",
       "      <td>447200.0</td>\n",
       "      <td>2845.0</td>\n",
       "      <td>573900.0</td>\n",
       "    </tr>\n",
       "    <tr>\n",
       "      <th>2</th>\n",
       "      <td>Block Group 1, Census Tract 149.02, Dallas Cou...</td>\n",
       "      <td>48</td>\n",
       "      <td>113</td>\n",
       "      <td>014902</td>\n",
       "      <td>1</td>\n",
       "      <td>1126</td>\n",
       "      <td>417</td>\n",
       "      <td>33.5</td>\n",
       "      <td>554</td>\n",
       "      <td>74</td>\n",
       "      <td>...</td>\n",
       "      <td>37</td>\n",
       "      <td>42</td>\n",
       "      <td>805</td>\n",
       "      <td>958</td>\n",
       "      <td>481130149021</td>\n",
       "      <td>48113014902</td>\n",
       "      <td>1387.0</td>\n",
       "      <td>245600.0</td>\n",
       "      <td>1770.0</td>\n",
       "      <td>286900.0</td>\n",
       "    </tr>\n",
       "    <tr>\n",
       "      <th>3</th>\n",
       "      <td>Block Group 2, Census Tract 149.02, Dallas Cou...</td>\n",
       "      <td>48</td>\n",
       "      <td>113</td>\n",
       "      <td>014902</td>\n",
       "      <td>2</td>\n",
       "      <td>1659</td>\n",
       "      <td>779</td>\n",
       "      <td>30.0</td>\n",
       "      <td>700</td>\n",
       "      <td>104</td>\n",
       "      <td>...</td>\n",
       "      <td>83</td>\n",
       "      <td>134</td>\n",
       "      <td>747</td>\n",
       "      <td>812</td>\n",
       "      <td>481130149022</td>\n",
       "      <td>48113014902</td>\n",
       "      <td>1387.0</td>\n",
       "      <td>245600.0</td>\n",
       "      <td>1770.0</td>\n",
       "      <td>286900.0</td>\n",
       "    </tr>\n",
       "    <tr>\n",
       "      <th>4</th>\n",
       "      <td>Block Group 4, Census Tract 172.01, Dallas Cou...</td>\n",
       "      <td>48</td>\n",
       "      <td>113</td>\n",
       "      <td>017201</td>\n",
       "      <td>4</td>\n",
       "      <td>1296</td>\n",
       "      <td>631</td>\n",
       "      <td>20.5</td>\n",
       "      <td>1188</td>\n",
       "      <td>97</td>\n",
       "      <td>...</td>\n",
       "      <td>0</td>\n",
       "      <td>141</td>\n",
       "      <td>640</td>\n",
       "      <td>763</td>\n",
       "      <td>481130172014</td>\n",
       "      <td>48113017201</td>\n",
       "      <td>4125.0</td>\n",
       "      <td>236600.0</td>\n",
       "      <td>5225.0</td>\n",
       "      <td>274900.0</td>\n",
       "    </tr>\n",
       "  </tbody>\n",
       "</table>\n",
       "<p>5 rows × 86 columns</p>\n",
       "</div>"
      ],
      "text/plain": [
       "                                                NAME state county   tract  \\\n",
       "0  Block Group 3, Census Tract 142.03, Dallas Cou...    48    113  014203   \n",
       "1  Block Group 1, Census Tract 142.03, Dallas Cou...    48    113  014203   \n",
       "2  Block Group 1, Census Tract 149.02, Dallas Cou...    48    113  014902   \n",
       "3  Block Group 2, Census Tract 149.02, Dallas Cou...    48    113  014902   \n",
       "4  Block Group 4, Census Tract 172.01, Dallas Cou...    48    113  017201   \n",
       "\n",
       "  block group  total_population  female_population  median_age  race_white  \\\n",
       "0           3              1699                715        33.1        1176   \n",
       "1           1               712                240        43.4         462   \n",
       "2           1              1126                417        33.5         554   \n",
       "3           2              1659                779        30.0         700   \n",
       "4           4              1296                631        20.5        1188   \n",
       "\n",
       "   race_black  ...  hh_w_pai  hh_w_foodstamp_SNAP  median_contract_rent  \\\n",
       "0          62  ...         0                   50                   886   \n",
       "1          34  ...        18                   26                  1380   \n",
       "2          74  ...        37                   42                   805   \n",
       "3         104  ...        83                  134                   747   \n",
       "4          97  ...         0                  141                   640   \n",
       "\n",
       "   median_gross_rent         GEOID  GEOID_tract  median_gross_rent_tract_2016  \\\n",
       "0               1085  481130142033  48113014203                         861.0   \n",
       "1               1760  481130142031  48113014203                         861.0   \n",
       "2                958  481130149021  48113014902                        1387.0   \n",
       "3                812  481130149022  48113014902                        1387.0   \n",
       "4                763  481130172014  48113017201                        4125.0   \n",
       "\n",
       "   housing_median_value_tract_2016  median_gross_rent_tract_2019  \\\n",
       "0                         447200.0                        2845.0   \n",
       "1                         447200.0                        2845.0   \n",
       "2                         245600.0                        1770.0   \n",
       "3                         245600.0                        1770.0   \n",
       "4                         236600.0                        5225.0   \n",
       "\n",
       "   housing_median_value_tract_2019  \n",
       "0                         573900.0  \n",
       "1                         573900.0  \n",
       "2                         286900.0  \n",
       "3                         286900.0  \n",
       "4                         274900.0  \n",
       "\n",
       "[5 rows x 86 columns]"
      ]
     },
     "execution_count": 89,
     "metadata": {},
     "output_type": "execute_result"
    }
   ],
   "source": [
    "df_acs.head()"
   ]
  },
  {
   "cell_type": "code",
   "execution_count": 64,
   "metadata": {},
   "outputs": [
    {
     "data": {
      "text/plain": [
       "(1669, 86)"
      ]
     },
     "execution_count": 64,
     "metadata": {},
     "output_type": "execute_result"
    }
   ],
   "source": [
    "df_acs.shape"
   ]
  },
  {
   "cell_type": "code",
   "execution_count": null,
   "metadata": {},
   "outputs": [],
   "source": [
    "# # Read census tract relationship file between 2010 and 2020\n",
    "# file_path = 'https://www2.census.gov/geo/docs/maps-data/data/rel2020/tract/tab20_tract20_tract10_natl.txt'\n",
    "# df_tract_rel = pd.read_csv(file_path, sep='|')\n",
    "\n",
    "# # Select only Dallas County, Texas\n",
    "# df_tract_rel['GEOID_TRACT_20'] = df_tract_rel['GEOID_TRACT_20'].astype(str)\n",
    "# df_tract_rel['GEOID_TRACT_10'] = df_tract_rel['GEOID_TRACT_10'].astype(str)\n",
    "# df_tract_rel = df_tract_rel[df_tract_rel['GEOID_TRACT_20'].str.startswith('48113')]\n",
    "\n",
    "# # Merge df_acs_tract_2021 and df_acs_tract_2016 with df_tract_rel\n",
    "# df_tract_temp = pd.merge(df_acs_tract_2021, df_tract_rel[['GEOID_TRACT_20', 'GEOID_TRACT_10']], left_on='GEOID_tract', right_on='GEOID_TRACT_20')\n",
    "# df_tract_temp2 = pd.merge(df_tract_temp, df_acs_tract_2016, left_on='GEOID_TRACT_10', right_on='GEOID_tract')\n",
    "# df_tract_temp2 = df_tract_temp2[['GEOID_tract_x','median_gross_rent','median_gross_rent_2016','housing_median_value','housing_median_value_2016']].groupby('GEOID_tract_x').mean()\n",
    "\n",
    "# # Change the column name\n",
    "# df_tract_temp2 = df_tract_temp2.rename(columns={'median_gross_rent':'median_gross_rent_tract_2021', \n",
    "#                                                 'median_gross_rent_2016':'median_gross_rent_tract_2016',\n",
    "#                                                 'housing_median_value':'housing_median_value_tract_2021',\n",
    "#                                                 'housing_median_value_2016':'housing_median_value_tract_2016'})\n",
    "\n",
    "# # Merge df_acs and df_tract_temp2\n",
    "# df_acs = pd.merge(df_acs, df_tract_temp2, left_on='GEOID_tract', right_on='GEOID_tract_x', how='left')"
   ]
  },
  {
   "cell_type": "code",
   "execution_count": 94,
   "metadata": {},
   "outputs": [
    {
     "data": {
      "text/plain": [
       "(1598, 2)"
      ]
     },
     "execution_count": 94,
     "metadata": {},
     "output_type": "execute_result"
    }
   ],
   "source": [
    "df_evic[['GEOID','geometry']].drop_duplicates().shape"
   ]
  },
  {
   "cell_type": "code",
   "execution_count": 93,
   "metadata": {},
   "outputs": [
    {
     "data": {
      "text/plain": [
       "(121371, 42)"
      ]
     },
     "execution_count": 93,
     "metadata": {},
     "output_type": "execute_result"
    }
   ],
   "source": [
    "df_evic.shape"
   ]
  },
  {
   "cell_type": "code",
   "execution_count": 95,
   "metadata": {},
   "outputs": [],
   "source": [
    "# Dallas County Census Block Group shapefile (2019, prepandemic)\n",
    "data_path = '/Users/wooyongjung/WJ_Projects/eviction_2023_repo/data/tl_2019_48_bg/tl_2019_48_bg.shp'\n",
    "census_bg = gpd.read_file(data_path)\n",
    "census_bg = census_bg.to_crs(4326)\n",
    "census_bg = census_bg[census_bg['GEOID'].str.startswith('48113')]"
   ]
  },
  {
   "cell_type": "code",
   "execution_count": 96,
   "metadata": {},
   "outputs": [
    {
     "data": {
      "text/plain": [
       "(1669, 13)"
      ]
     },
     "execution_count": 96,
     "metadata": {},
     "output_type": "execute_result"
    }
   ],
   "source": [
    "census_bg.shape"
   ]
  },
  {
   "cell_type": "code",
   "execution_count": 98,
   "metadata": {},
   "outputs": [],
   "source": [
    "# Merge ACS and Eviction dataframes\n",
    "df_evic2.reset_index(inplace=True)\n",
    "df_evic2['GEOID'] = df_evic2['GEOID'].astype(str)\n",
    "\n",
    "df_evic3.reset_index(inplace=True)\n",
    "df_evic3['GEOID'] = df_evic3['GEOID'].astype(str)\n",
    "\n",
    "# Merge df_acs and df_evic['geometry] first before merging with df_evic2\n",
    "df_acs2 = pd.merge(df_acs, census_bg[['GEOID','geometry']], on='GEOID', how='left')\n",
    "\n",
    "# Merge df_acs and df_evic2\n",
    "df = pd.merge(df_acs2, df_evic2, on='GEOID', how='left')\n",
    "\n",
    "# Merge df_acs and df_evic3 (non-payment(np) of rent)\n",
    "df_np = pd.merge(df_acs2, df_evic3, on='GEOID', how='left')"
   ]
  },
  {
   "cell_type": "code",
   "execution_count": 99,
   "metadata": {},
   "outputs": [
    {
     "name": "stdout",
     "output_type": "stream",
     "text": [
      "(1669, 90)\n",
      "(1669, 89)\n"
     ]
    }
   ],
   "source": [
    "print(df.shape)\n",
    "print(df_np.shape)"
   ]
  },
  {
   "cell_type": "code",
   "execution_count": 100,
   "metadata": {},
   "outputs": [],
   "source": [
    "# Select required columns\n",
    "required_cols = ['GEOID','geometry_x','case_number', 'amount_filed', 'total_population', 'median_age' ,\n",
    "                 'race_white', 'race_black', 'race_asian', 'race_hispanic','hh_total', 'children_total', \n",
    "                 'edu_att_over25_no_schooling_completed', 'edu_att_over25_highschool_graduate', \n",
    "                 'edu_att_over25_master_degree', 'edu_att_over25_professional_degree',\n",
    "                 'edu_att_over25_doctorate_degree', 'children_w_married_couple',\n",
    "                 'children_w_male_hh', 'children_w_female_hh',\n",
    "                 'no_internet_access', 'housing_unit',\n",
    "                 'housing_vacant', 'tenure_renter_occupied', 'vacancy_for_rent', 'median_year_built', \n",
    "                 'ind_poverty', 'hh_median_income',\n",
    "                 'median_gross_rent_tract_2019', 'median_gross_rent_tract_2016',\n",
    "                 'housing_median_value_tract_2019', 'housing_median_value_tract_2016',\n",
    "                 'mortgage_status_total', 'mortgage_status_w_mortgage','median_monthly_owner_costs',\t\n",
    "                 'median_monthly_owner_costs_w_mortgage', 'hh_nonfamily','hh_living_alone',\n",
    "                 'hh_average_size_renter_occupied',\n",
    "                 '1unit_detached_structure', '1unit_attached_structure', 'units_in_structure_20_49', 'units_in_structure_50ormore',\n",
    "                 'gross_rent_percent_hhincome_total',\n",
    "                 'gross_rent_percent_hhincome_40to50', 'gross_rent_percent_hhincome_50ormore',\n",
    "                 'ind_labor_force', 'ind_labor_force_civilian_unemployed',\n",
    "                 'hh_w_ssi', 'hh_w_pai', 'hh_w_foodstamp_SNAP',\n",
    "                 'time_to_work_total', 'time_to_work_lt5', 'time_to_work_5to9',\n",
    "                 'time_to_work_10to14', 'time_to_work_15to19', 'time_to_work_20to24', \n",
    "                 'time_to_work_25to29', 'time_to_work_30to34', 'time_to_work_35to39', \n",
    "                 'time_to_work_40to44', 'time_to_work_45to59', 'time_to_work_60to89', 'time_to_work_mt90'\n",
    "                 ]\n",
    "df = df[required_cols]"
   ]
  },
  {
   "cell_type": "code",
   "execution_count": 101,
   "metadata": {},
   "outputs": [],
   "source": [
    "# Select required columns (without amount_filed)\n",
    "required_cols = ['GEOID','geometry_x','case_number', 'total_population', 'median_age' ,\n",
    "                 'race_white', 'race_black', 'race_asian', 'race_hispanic','hh_total', 'children_total', \n",
    "                 'edu_att_over25_no_schooling_completed', 'edu_att_over25_highschool_graduate', \n",
    "                 'edu_att_over25_master_degree', 'edu_att_over25_professional_degree',\n",
    "                 'edu_att_over25_doctorate_degree', 'children_w_married_couple',\n",
    "                 'children_w_male_hh', 'children_w_female_hh',\n",
    "                 'no_internet_access', 'housing_unit',\n",
    "                 'housing_vacant', 'tenure_renter_occupied', 'vacancy_for_rent', 'median_year_built', \n",
    "                 'housing_median_value', 'ind_poverty', 'hh_median_income', 'median_gross_rent', \n",
    "                 'median_gross_rent_tract_2019', 'median_gross_rent_tract_2016',\n",
    "                 'housing_median_value_tract_2019', 'housing_median_value_tract_2016',\n",
    "                 'mortgage_status_total', 'mortgage_status_w_mortgage','median_monthly_owner_costs',\t\n",
    "                 'median_monthly_owner_costs_w_mortgage', 'hh_nonfamily','hh_living_alone',\n",
    "                 'hh_average_size_renter_occupied',\n",
    "                 '1unit_detached_structure', '1unit_attached_structure', 'units_in_structure_20_49', 'units_in_structure_50ormore',\n",
    "                 'gross_rent_percent_hhincome_total',\n",
    "                 'gross_rent_percent_hhincome_40to50', 'gross_rent_percent_hhincome_50ormore',\n",
    "                 'ind_labor_force', 'ind_labor_force_civilian_unemployed',\n",
    "                 'hh_w_ssi', 'hh_w_pai', 'hh_w_foodstamp_SNAP',\n",
    "                 'time_to_work_total', 'time_to_work_lt5', 'time_to_work_5to9',\n",
    "                 'time_to_work_10to14', 'time_to_work_15to19', 'time_to_work_20to24', \n",
    "                 'time_to_work_25to29', 'time_to_work_30to34', 'time_to_work_35to39', \n",
    "                 'time_to_work_40to44', 'time_to_work_45to59', 'time_to_work_60to89', 'time_to_work_mt90'\n",
    "                 ]\n",
    "df_np = df_np[required_cols]"
   ]
  },
  {
   "cell_type": "code",
   "execution_count": 102,
   "metadata": {},
   "outputs": [],
   "source": [
    "# Separate df into integer, float and string dataframes\n",
    "df_int = df.select_dtypes(include=['int64'])\n",
    "df_str = df.select_dtypes(include=['object'])\n",
    "df_float = df.select_dtypes(include=['float64'])\n",
    "\n",
    "df_np_int = df_np.select_dtypes(include=['int64'])\n",
    "df_np_str = df_np.select_dtypes(include=['object'])\n",
    "df_np_float = df_np.select_dtypes(include=['float64'])\n",
    "\n",
    "# Replace negative values with NaN\n",
    "df_int[df_int < 0] = np.nan\n",
    "df_float[df_float < 0] = np.nan\n",
    "\n",
    "df_np_int[df_np_int < 0] = np.nan\n",
    "df_np_float[df_np_float < 0] = np.nan"
   ]
  },
  {
   "cell_type": "code",
   "execution_count": 103,
   "metadata": {},
   "outputs": [],
   "source": [
    "# Concatenate integer, float and string dataframes\n",
    "df2 = pd.concat([df['geometry_x'], df_int, df_float, df_str], axis=1)\n",
    "df_np2 = pd.concat([df_np['geometry_x'], df_np_int, df_np_float, df_np_str], axis=1)"
   ]
  },
  {
   "cell_type": "code",
   "execution_count": 104,
   "metadata": {},
   "outputs": [],
   "source": [
    "# Create new columns: eviction counts (per 1000 housing units)\n",
    "df2['eviction_rate'] = ((df2['case_number'] / 5) / (df2['housing_unit']))*1000\n",
    "df2['eviction_rate'] = df2['eviction_rate'].round()\n",
    "\n",
    "# Create a new column: eviction counts per 1000 renter occupied housing units\n",
    "df2['eviction_rate_renter'] = ((df2['case_number'] / 5) / (df2['tenure_renter_occupied']))*1000\n",
    "df2['eviction_rate_renter'] = df2['eviction_rate_renter'].round()\n",
    "\n",
    "# Create new columns: education level less than high school\n",
    "df2['edu_lt_highschool'] = (df2['edu_att_over25_no_schooling_completed'] + df2['edu_att_over25_highschool_graduate'])/df2['total_population']\n",
    "\n",
    "# Create new columns: education level with graduate degree\n",
    "df2['edu_grad'] = (df2['edu_att_over25_master_degree'] + df2['edu_att_over25_professional_degree'] + df2['edu_att_over25_doctorate_degree'])/df2['total_population']\n",
    "\n",
    "# Create new columns: black people percentage\n",
    "df2['black_ratio'] = df2['race_black'] / df2['total_population']\n",
    "\n",
    "# Create new columns: white people percentage\n",
    "df2['white_ratio'] = df2['race_white'] / df2['total_population']\n",
    "\n",
    "# Create new columns: asian people percentage\n",
    "df2['asian_ratio'] = df2['race_asian'] / df2['total_population']\n",
    "\n",
    "# Create new columns: hispanic people percentage\n",
    "df2['hispanic_ratio'] = df2['race_hispanic'] / df2['total_population']\n",
    "\n",
    "# Create new columns: children in married-couple households\n",
    "df2['children_w_married_couple_ratio'] = df2['children_w_married_couple'] / df2['children_total']\n",
    "\n",
    "# Create new columns: children in male-householder households without spouse\n",
    "df2['children_w_male_hh_ratio'] = df2['children_w_male_hh'] / df2['children_total']\n",
    "\n",
    "# Create new columns: children in male-householder households without spouse\n",
    "df2['children_w_female_hh_ratio'] = df2['children_w_female_hh'] / df2['children_total']\n",
    "\n",
    "# Create new columns: renter occupied housing unit percentage\n",
    "df2['renter_occ_rate'] = df2['tenure_renter_occupied'] / df2['housing_unit']\n",
    "\n",
    "# Create new columns: vacant housing unit percentage (for rent)\n",
    "df2['vacancy_rate'] = df2['vacancy_for_rent'] / df2['housing_unit']\n",
    "\n",
    "# Create new columns: unemployment rate\n",
    "df2['unemployment_rate'] = df2['ind_labor_force_civilian_unemployed'] / df2['ind_labor_force']\n",
    "\n",
    "# Create new columns: poverty rate\n",
    "df2['poverty_rate'] = df2['ind_poverty'] / df2['total_population']\n",
    "\n",
    "# Create new columns: single unit structure percentage\n",
    "df2['1unit_structure_ratio'] = (df2['1unit_detached_structure'] + df2['1unit_attached_structure']) / df2['housing_unit']\n",
    "\n",
    "# Create new columns: multi-unit structure percentage\n",
    "df2['multiunit_structure_ratio'] = (df2['units_in_structure_20_49'] + df2['units_in_structure_50ormore']) / df2['housing_unit']\n",
    "\n",
    "# Create new columns: household ratio with social programs\n",
    "df2['hh_social_programs'] = (df2['hh_w_ssi'] + df2['hh_w_pai'] + df2['hh_w_foodstamp_SNAP'])/df2['hh_total']\n",
    "\n",
    "# Create new columns: morgage status percentage\n",
    "df2['mortgage_status_ratio'] = df2['mortgage_status_w_mortgage'] / df2['housing_unit']\n",
    "\n",
    "# Create new columns: gross rent percentage\n",
    "df2['gross_rent_mt40'] = (df2['gross_rent_percent_hhincome_40to50'] + df2['gross_rent_percent_hhincome_50ormore'])/df2['gross_rent_percent_hhincome_total']\n",
    "\n",
    "# Create new columns: gross rent percentage more than 50% of household income\n",
    "df2['gross_rent_mt50'] = df2['gross_rent_percent_hhincome_50ormore']/df2['gross_rent_percent_hhincome_total']\n",
    "\n",
    "# Create new columns: household with nonfamily ratio\n",
    "df2['hh_nonfamily_ratio'] = df2['hh_nonfamily'] / df2['hh_total']\n",
    "\n",
    "# Create new columns: householder living alone ratio\n",
    "df2['hher_living_alone_ratio'] = df2['hh_living_alone'] / df2['hh_total']\n",
    "\n",
    "# Create new columns: time to work less than 30 mins\n",
    "df2['time_to_work_lt30'] = (df2['time_to_work_lt5'] + df2['time_to_work_5to9'] + df2['time_to_work_10to14'] + df2['time_to_work_15to19'] + df2['time_to_work_20to24'] + df2['time_to_work_25to29'])/df2['time_to_work_total']\n",
    "\n",
    "# Create new columns: time to work between 30 and 59 mins\n",
    "df2['time_to_work_30to59'] = (df2['time_to_work_30to34'] + df2['time_to_work_35to39'] + df2['time_to_work_40to44'] + df2['time_to_work_45to59'])/df2['time_to_work_total']\n",
    "\n",
    "# Create new columns: time to work more than 60 mins\n",
    "df2['time_to_work_mt60'] = (df2['time_to_work_60to89'] + df2['time_to_work_mt90'])/df2['time_to_work_total']\n",
    "\n",
    "# Create new columns: median gross rent change between 2016 and 2021\n",
    "df2['median_gross_rent_tract_2016'] = df2['median_gross_rent_tract_2016'] + 1\n",
    "df2['median_gross_rent_tract_2019'] = df2['median_gross_rent_tract_2019'] + 1\n",
    "df2['median_gross_rent_change'] = (df2['median_gross_rent_tract_2019'] - df2['median_gross_rent_tract_2016'])/df2['median_gross_rent_tract_2016']\n",
    "\n",
    "# Create new columns: housing median value change between 2016 and 2021\n",
    "df2['housing_median_value_tract_2016'] = df2['housing_median_value_tract_2016'] + 1\n",
    "df2['housing_median_value_tract_2019'] = df2['housing_median_value_tract_2019'] + 1\n",
    "df2['housing_median_value_change'] = (df2['housing_median_value_tract_2019'] - df2['housing_median_value_tract_2016'])/df2['housing_median_value_tract_2016']\n",
    "\n",
    "# Create new columns: no internet access percentage\n",
    "df2['no_internet_access_ratio'] = df2['no_internet_access'] / df2['hh_total']"
   ]
  },
  {
   "cell_type": "code",
   "execution_count": 105,
   "metadata": {},
   "outputs": [],
   "source": [
    "# Create new columns: eviction rate\n",
    "df_np2['eviction_rate'] = ((df_np2['case_number'] / 5) / (df_np2['housing_unit']))*1000\n",
    "df_np2['eviction_rate'] = df_np2['eviction_rate'].round()\n",
    "\n",
    "# Create a new column: eviction counts per 1000 renter occupied housing units\n",
    "df_np2['eviction_rate_renter'] = ((df_np2['case_number'] / 5) / (df_np2['tenure_renter_occupied']))*1000\n",
    "df_np2['eviction_rate_renter'] = df_np2['eviction_rate_renter'].round()\n",
    "\n",
    "# Create new columns: education level less than high school\n",
    "df_np2['edu_lt_highschool'] = (df_np2['edu_att_over25_no_schooling_completed'] + df_np2['edu_att_over25_highschool_graduate'])/df_np2['total_population']\n",
    "\n",
    "# Create new columns: education level with graduate degree\n",
    "df_np2['edu_grad'] = (df_np2['edu_att_over25_master_degree'] + df_np2['edu_att_over25_professional_degree'] + df_np2['edu_att_over25_doctorate_degree'])/df_np2['total_population']\n",
    "\n",
    "# Create new columns: black people percentage\n",
    "df_np2['black_ratio'] = df_np2['race_black'] / df_np2['total_population']\n",
    "\n",
    "# Create new columns: white people percentage\n",
    "df_np2['white_ratio'] = df_np2['race_white'] / df_np2['total_population']\n",
    "\n",
    "# Create new columns: asian people percentage\n",
    "df_np2['asian_ratio'] = df_np2['race_asian'] / df_np2['total_population']\n",
    "\n",
    "# Create new columns: hispanic people percentage\n",
    "df_np2['hispanic_ratio'] = df_np2['race_hispanic'] / df_np2['total_population']\n",
    "\n",
    "# Create new columns: children in married-couple households\n",
    "df_np2['children_w_married_couple_ratio'] = df_np2['children_w_married_couple'] / df_np2['children_total']\n",
    "\n",
    "# Create new columns: children in male-householder households without spouse\n",
    "df_np2['children_w_male_hh_ratio'] = df_np2['children_w_male_hh'] / df_np2['children_total']\n",
    "\n",
    "# Create new columns: children in male-householder households without spouse\n",
    "df_np2['children_w_female_hh_ratio'] = df_np2['children_w_female_hh'] / df_np2['children_total']\n",
    "\n",
    "# Create new columns: renter occupied housing unit percentage\n",
    "df_np2['renter_occ_rate'] = df_np2['tenure_renter_occupied'] / df_np2['housing_unit']\n",
    "\n",
    "# Create new columns: vacant housing unit percentage (for rent)\n",
    "df_np2['vacancy_rate'] = df_np2['vacancy_for_rent'] / df_np2['housing_unit']\n",
    "\n",
    "# Create new columns: unemployment rate\n",
    "df_np2['unemployment_rate'] = df_np2['ind_labor_force_civilian_unemployed'] / df_np2['ind_labor_force']\n",
    "\n",
    "# Create new columns: poverty rate\n",
    "df_np2['poverty_rate'] = df_np2['ind_poverty'] / df_np2['total_population']\n",
    "\n",
    "# Create new columns: single unit structure percentage\n",
    "df_np2['1unit_structure_ratio'] = (df_np2['1unit_detached_structure'] + df_np2['1unit_attached_structure']) / df_np2['housing_unit']\n",
    "\n",
    "# Create new columns: multi-unit structure percentage\n",
    "df_np2['multiunit_structure_ratio'] = (df_np2['units_in_structure_20_49'] + df_np2['units_in_structure_50ormore']) / df_np2['housing_unit']\n",
    "\n",
    "# Create new columns: household ratio with social programs\n",
    "df_np2['hh_social_programs'] = (df_np2['hh_w_ssi'] + df_np2['hh_w_pai'] + df_np2['hh_w_foodstamp_SNAP'])/df_np2['hh_total']\n",
    "\n",
    "# Create new columns: morgage status percentage\n",
    "df_np2['mortgage_status_ratio'] = df_np2['mortgage_status_w_mortgage'] / df_np2['mortgage_status_total']\n",
    "\n",
    "# Create new columns: gross rent percentage\n",
    "df_np2['gross_rent_mt40'] = (df_np2['gross_rent_percent_hhincome_40to50'] + df_np2['gross_rent_percent_hhincome_50ormore'])/df_np2['gross_rent_percent_hhincome_total']\n",
    "\n",
    "# Create new columns: gross rent percentage more than 50% of household income\n",
    "df_np2['gross_rent_mt50'] = df_np2['gross_rent_percent_hhincome_50ormore']/df_np2['gross_rent_percent_hhincome_total']\n",
    "\n",
    "# Create new columns: household with nonfamily ratio\n",
    "df_np2['hh_nonfamily_ratio'] = df_np2['hh_nonfamily'] / df_np2['hh_total']\n",
    "\n",
    "# Create new columns: householder living alone ratio\n",
    "df_np2['hher_living_alone_ratio'] = df_np2['hh_living_alone'] / df_np2['hh_total']\n",
    "\n",
    "# Create new columns: time to work less than 30 mins\n",
    "df_np2['time_to_work_lt30'] = (df_np2['time_to_work_lt5'] + df_np2['time_to_work_5to9'] + df_np2['time_to_work_10to14'] + df_np2['time_to_work_15to19'] + df_np2['time_to_work_20to24'] + df_np2['time_to_work_25to29'])/df_np2['time_to_work_total']\n",
    "\n",
    "# Create new columns: time to work between 30 and 59 mins\n",
    "df_np2['time_to_work_30to59'] = (df_np2['time_to_work_30to34'] + df_np2['time_to_work_35to39'] + df_np2['time_to_work_40to44'] + df_np2['time_to_work_45to59'])/df_np2['time_to_work_total']\n",
    "\n",
    "# Create new columns: time to work more than 60 mins\n",
    "df_np2['time_to_work_mt60'] = (df_np2['time_to_work_60to89'] + df_np2['time_to_work_mt90'])/df_np2['time_to_work_total']\n",
    "\n",
    "# Create new columns: median gross rent change between 2016 and 2021\n",
    "df_np2['median_gross_rent_tract_2016'] = df_np2['median_gross_rent_tract_2016'] + 1\n",
    "df_np2['median_gross_rent_tract_2019'] = df_np2['median_gross_rent_tract_2019'] + 1\n",
    "df_np2['median_gross_rent_change'] = (df_np2['median_gross_rent_tract_2019'] - df_np2['median_gross_rent_tract_2016'])/df_np2['median_gross_rent_tract_2016']\n",
    "\n",
    "# Create new columns: housing median value change between 2016 and 2021\n",
    "df_np2['housing_median_value_tract_2016'] = df_np2['housing_median_value_tract_2016'] + 1\n",
    "df_np2['housing_median_value_tract_2019'] = df_np2['housing_median_value_tract_2019'] + 1\n",
    "df_np2['housing_median_value_change'] = (df_np2['housing_median_value_tract_2019'] - df_np2['housing_median_value_tract_2016'])/df_np2['housing_median_value_tract_2016']\n",
    "\n",
    "# Create new columns: no internet access percentage\n",
    "df_np2['no_internet_access_ratio'] = df_np2['no_internet_access'] / df_np2['hh_total']"
   ]
  },
  {
   "cell_type": "code",
   "execution_count": 106,
   "metadata": {},
   "outputs": [
    {
     "name": "stdout",
     "output_type": "stream",
     "text": [
      "(1669, 93)\n",
      "(1669, 94)\n"
     ]
    }
   ],
   "source": [
    "print(df2.shape)\n",
    "print(df_np2.shape)"
   ]
  },
  {
   "cell_type": "code",
   "execution_count": 107,
   "metadata": {},
   "outputs": [],
   "source": [
    "# Remove rows with zero total population\n",
    "df2 = df2[df2['total_population']!=0]\n",
    "df_np2 = df_np2[df_np2['total_population']!=0]\n",
    "\n",
    "# Remove rows with zero housing unit\n",
    "df2 = df2[df2['housing_unit']!=0]\n",
    "df_np2 = df_np2[df_np2['housing_unit']!=0]\n",
    "\n",
    "# Replace NaN with zero for 'gross_rent_mt40' if 'tenure_renter_occupied' = 0\n",
    "df2.loc[df2['tenure_renter_occupied']==0, 'gross_rent_mt40'] = 0\n",
    "df_np2.loc[df_np2['tenure_renter_occupied']==0, 'gross_rent_mt40'] = 0\n",
    "\n",
    "# Replace NaN with zero for 'gross_rent_mt50' if 'tenure_renter_occupied' = 0\n",
    "df2.loc[df2['tenure_renter_occupied']==0, 'gross_rent_mt50'] = 0\n",
    "df_np2.loc[df_np2['tenure_renter_occupied']==0, 'gross_rent_mt50'] = 0\n",
    "\n",
    "# Replace NaN with zero for 'mortgate_status_ratio' if 'mortgage_status_total' = 0\n",
    "df2.loc[df2['mortgage_status_total']==0, 'mortgage_status_ratio'] = 0\n",
    "df_np2.loc[df_np2['mortgage_status_total']==0, 'mortgage_status_ratio'] = 0\n",
    "\n",
    "# Replace NaN with zero for 'eviction_rate_renter' if 'eviction_rate_renter' = 0\n",
    "df2['eviction_rate_renter'].fillna(0, inplace=True)\n",
    "df_np2['eviction_rate_renter'].fillna(0, inplace=True)\n",
    "df2['eviction_rate_renter'].replace([np.inf, -np.inf], 0, inplace=True)\n",
    "df_np2['eviction_rate_renter'].replace([np.inf, -np.inf], 0, inplace=True)\n",
    "\n",
    "# Fill NaN with 0 for 'case_number' and 'amount_filed'\n",
    "df2['case_number'].fillna(0, inplace=True)\n",
    "df_np2['case_number'].fillna(0, inplace=True)\n",
    "df2['amount_filed'].fillna(0, inplace=True)\n",
    "\n",
    "# Fill NaN with 0 for 'eviction_rate'\n",
    "df2['eviction_rate'].fillna(0, inplace=True)\n",
    "df_np2['eviction_rate'].fillna(0, inplace=True)\n",
    "\n",
    "# Fill NaN with 0 for 'hh_w_child_male_hh_ratio'\n",
    "df2['children_w_male_hh_ratio'].fillna(0, inplace=True)\n",
    "df_np2['children_w_male_hh_ratio'].fillna(0, inplace=True)\n",
    "\n",
    "# Fill NaN with 0 for 'hh_w_child_female_hh_ratio'\n",
    "df2['children_w_female_hh_ratio'].fillna(0, inplace=True)\n",
    "df_np2['children_w_female_hh_ratio'].fillna(0, inplace=True)\n",
    "\n",
    "# Fill NaN with 0 for 'children_w_married_couple_ratio'\n",
    "df2['children_w_married_couple_ratio'].fillna(0, inplace=True)\n",
    "df_np2['children_w_married_couple_ratio'].fillna(0, inplace=True)"
   ]
  },
  {
   "cell_type": "code",
   "execution_count": 108,
   "metadata": {},
   "outputs": [
    {
     "name": "stdout",
     "output_type": "stream",
     "text": [
      "(1665, 93)\n",
      "(1665, 94)\n"
     ]
    }
   ],
   "source": [
    "print(df2.shape)\n",
    "print(df_np2.shape)"
   ]
  },
  {
   "cell_type": "code",
   "execution_count": 109,
   "metadata": {},
   "outputs": [],
   "source": [
    "df2.to_csv('data/acs_evic_data_wo_zero_pop_prepandemic.csv')\n",
    "df_np2.to_csv('data/acs_evic_data_np_wo_zero_pop_prepandemic.csv')"
   ]
  }
 ],
 "metadata": {
  "kernelspec": {
   "display_name": "base",
   "language": "python",
   "name": "python3"
  },
  "language_info": {
   "codemirror_mode": {
    "name": "ipython",
    "version": 3
   },
   "file_extension": ".py",
   "mimetype": "text/x-python",
   "name": "python",
   "nbconvert_exporter": "python",
   "pygments_lexer": "ipython3",
   "version": "3.11.4"
  },
  "orig_nbformat": 4
 },
 "nbformat": 4,
 "nbformat_minor": 2
}
