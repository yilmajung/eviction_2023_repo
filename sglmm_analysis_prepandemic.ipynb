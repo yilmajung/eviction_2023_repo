{
 "cells": [
  {
   "cell_type": "code",
   "execution_count": 1,
   "metadata": {},
   "outputs": [
    {
     "data": {
      "text/plain": [
       "{'DXF': 'rw',\n",
       " 'CSV': 'raw',\n",
       " 'OpenFileGDB': 'raw',\n",
       " 'ESRIJSON': 'r',\n",
       " 'ESRI Shapefile': 'raw',\n",
       " 'FlatGeobuf': 'raw',\n",
       " 'GeoJSON': 'raw',\n",
       " 'GeoJSONSeq': 'raw',\n",
       " 'GPKG': 'raw',\n",
       " 'GML': 'rw',\n",
       " 'OGR_GMT': 'rw',\n",
       " 'GPX': 'rw',\n",
       " 'MapInfo File': 'raw',\n",
       " 'DGN': 'raw',\n",
       " 'S57': 'r',\n",
       " 'SQLite': 'raw',\n",
       " 'TopoJSON': 'r'}"
      ]
     },
     "execution_count": 1,
     "metadata": {},
     "output_type": "execute_result"
    }
   ],
   "source": [
    "import pandas as pd\n",
    "import numpy as np\n",
    "import geopandas as gpd\n",
    "import fiona\n",
    "fiona.supported_drivers"
   ]
  },
  {
   "cell_type": "code",
   "execution_count": 53,
   "metadata": {},
   "outputs": [],
   "source": [
    "# Load ACS data and Eviction data\n",
    "df_acs = pd.read_csv('data/acs_data_5y_2019_revised.csv')\n",
    "df_acs_2016 = pd.read_csv('data/acs_data_5y_2016.csv')\n",
    "df_evic = gpd.read_file('data/eviction_count_bg_2019.geojson')"
   ]
  },
  {
   "cell_type": "code",
   "execution_count": 54,
   "metadata": {},
   "outputs": [
    {
     "name": "stdout",
     "output_type": "stream",
     "text": [
      "(1669, 80)\n",
      "(1669, 7)\n",
      "(151590, 42)\n"
     ]
    }
   ],
   "source": [
    "print(df_acs.shape)\n",
    "print(df_acs_2016.shape)\n",
    "print(df_evic.shape)"
   ]
  },
  {
   "cell_type": "code",
   "execution_count": 55,
   "metadata": {},
   "outputs": [
    {
     "data": {
      "text/plain": [
       "(121371, 42)"
      ]
     },
     "execution_count": 55,
     "metadata": {},
     "output_type": "execute_result"
    }
   ],
   "source": [
    "# Filter out the filed_year 2020 and 2021\n",
    "df_evic = df_evic[df_evic['filed_year'] < 2020]\n",
    "df_evic.shape"
   ]
  },
  {
   "cell_type": "code",
   "execution_count": 56,
   "metadata": {},
   "outputs": [],
   "source": [
    "# Select required columns and convert df_evic to eviction count dataframe by CBG\n",
    "df_evic2 = df_evic[['GEOID','geometry','case_number','amount_filed']]\n",
    "df_evic3 = df_evic2.copy()\n",
    "\n",
    "# Remove rows with 'amount_filed' = 'Not Non-Payment of Rent'\n",
    "df_evic2 = df_evic2[df_evic2['amount_filed'] != 'Not Non-Payment of Rent']\n",
    "\n",
    "# Select rows with 'amount_filed' = 'Not Non-Payment of Rent'\n",
    "df_evic3 = df_evic3[df_evic3['amount_filed'] == 'Not Non-Payment of Rent']\n",
    "\n",
    "# Convert 'amount_filed' to numeric\n",
    "df_evic2['amount_filed'] = pd.to_numeric(df_evic2['amount_filed'])\n",
    "\n",
    "# Aggregate eviction count and average amount_filed by CBG\n",
    "df_evic2 = df_evic2.dissolve(by='GEOID', aggfunc={'case_number':'count', 'amount_filed':'mean'})\n",
    "df_evic3 = df_evic3.drop(columns=['amount_filed'])\n",
    "df_evic3 = df_evic3.dissolve(by='GEOID', aggfunc={'case_number':'count'})"
   ]
  },
  {
   "cell_type": "code",
   "execution_count": 57,
   "metadata": {},
   "outputs": [],
   "source": [
    "# Add leading zeros to tract column\n",
    "df_acs['tract'] = df_acs['tract'].astype(str)\n",
    "df_acs_2016['tract'] = df_acs_2016['tract'].astype(str)\n",
    "df_acs['tract'] = df_acs['tract'].str.zfill(6)\n",
    "df_acs_2016['tract'] = df_acs_2016['tract'].str.zfill(6)\n",
    "\n",
    "# Convert state, county, tract, block group to string\n",
    "df_acs['state'] = df_acs['state'].astype(str)\n",
    "df_acs['county'] = df_acs['county'].astype(str)\n",
    "df_acs['block group'] = df_acs['block group'].astype(str)\n",
    "\n",
    "df_acs_2016['state'] = df_acs_2016['state'].astype(str)\n",
    "df_acs_2016['county'] = df_acs_2016['county'].astype(str)\n",
    "df_acs_2016['block group'] = df_acs_2016['block group'].astype(str)\n",
    "\n",
    "# Create GEOID column\n",
    "df_acs['GEOID'] = df_acs['state'] + df_acs['county'] + df_acs['tract'] + df_acs['block group']\n",
    "df_acs_2016['GEOID'] = df_acs_2016['state'] + df_acs_2016['county'] + df_acs_2016['tract'] + df_acs_2016['block group']\n",
    "\n",
    "# Create GEOID_tract column\n",
    "df_acs['GEOID_tract'] = df_acs['state'] + df_acs['county'] + df_acs['tract']\n",
    "df_acs_2016['GEOID_tract'] = df_acs_2016['state'] + df_acs_2016['county'] + df_acs_2016['tract']\n",
    "\n",
    "# Change the column names in df_acs_2016 to match df_acs\n",
    "df_acs_2016 = df_acs_2016.rename(columns={'median_gross_rent':'median_gross_rent_2016',\n",
    "                                          'housing_median_value':'housing_median_value_2016'})"
   ]
  },
  {
   "cell_type": "code",
   "execution_count": 58,
   "metadata": {},
   "outputs": [
    {
     "name": "stderr",
     "output_type": "stream",
     "text": [
      "/var/folders/y6/z9h695vx2w3gbjh7z32h4j9m0000gn/T/ipykernel_59393/2569063516.py:8: SettingWithCopyWarning: \n",
      "A value is trying to be set on a copy of a slice from a DataFrame\n",
      "\n",
      "See the caveats in the documentation: https://pandas.pydata.org/pandas-docs/stable/user_guide/indexing.html#returning-a-view-versus-a-copy\n",
      "  df_acs_tract_2016['median_gross_rent_2016'][df_acs_tract_2016['median_gross_rent_2016'] < 0] = np.nan\n",
      "/var/folders/y6/z9h695vx2w3gbjh7z32h4j9m0000gn/T/ipykernel_59393/2569063516.py:9: SettingWithCopyWarning: \n",
      "A value is trying to be set on a copy of a slice from a DataFrame\n",
      "\n",
      "See the caveats in the documentation: https://pandas.pydata.org/pandas-docs/stable/user_guide/indexing.html#returning-a-view-versus-a-copy\n",
      "  df_acs_tract_2019['median_gross_rent'][df_acs_tract_2019['median_gross_rent'] < 0] = np.nan\n",
      "/var/folders/y6/z9h695vx2w3gbjh7z32h4j9m0000gn/T/ipykernel_59393/2569063516.py:10: SettingWithCopyWarning: \n",
      "A value is trying to be set on a copy of a slice from a DataFrame\n",
      "\n",
      "See the caveats in the documentation: https://pandas.pydata.org/pandas-docs/stable/user_guide/indexing.html#returning-a-view-versus-a-copy\n",
      "  df_acs_tract_2016['housing_median_value_2016'][df_acs_tract_2016['housing_median_value_2016'] < 0] = np.nan\n",
      "/var/folders/y6/z9h695vx2w3gbjh7z32h4j9m0000gn/T/ipykernel_59393/2569063516.py:11: SettingWithCopyWarning: \n",
      "A value is trying to be set on a copy of a slice from a DataFrame\n",
      "\n",
      "See the caveats in the documentation: https://pandas.pydata.org/pandas-docs/stable/user_guide/indexing.html#returning-a-view-versus-a-copy\n",
      "  df_acs_tract_2019['housing_median_value'][df_acs_tract_2019['housing_median_value'] < 0] = np.nan\n"
     ]
    }
   ],
   "source": [
    "# Compare median rent in 2016 and 2019 at the tract-level \n",
    "# (At the census block group level, it is challenging to clearly identify the change in boundaries)\n",
    "# Create a tract-level median gross rent dataframe for 2016 and 2019\n",
    "df_acs_tract_2016 = df_acs_2016[['GEOID_tract','median_gross_rent_2016','housing_median_value_2016']].copy()\n",
    "df_acs_tract_2019 = df_acs[['GEOID_tract','median_gross_rent','housing_median_value']].copy()\n",
    "\n",
    "# Replace negative values with NaN\n",
    "df_acs_tract_2016['median_gross_rent_2016'][df_acs_tract_2016['median_gross_rent_2016'] < 0] = np.nan\n",
    "df_acs_tract_2019['median_gross_rent'][df_acs_tract_2019['median_gross_rent'] < 0] = np.nan\n",
    "df_acs_tract_2016['housing_median_value_2016'][df_acs_tract_2016['housing_median_value_2016'] < 0] = np.nan\n",
    "df_acs_tract_2019['housing_median_value'][df_acs_tract_2019['housing_median_value'] < 0] = np.nan\n",
    "\n",
    "# Group by tract and sum\n",
    "df_acs_tract_2016 = df_acs_tract_2016.groupby('GEOID_tract').sum().reset_index()\n",
    "df_acs_tract_2019 = df_acs_tract_2019.groupby('GEOID_tract').sum().reset_index()"
   ]
  },
  {
   "cell_type": "code",
   "execution_count": 60,
   "metadata": {},
   "outputs": [
    {
     "name": "stdout",
     "output_type": "stream",
     "text": [
      "(529, 3)\n",
      "(529, 3)\n"
     ]
    }
   ],
   "source": [
    "print(df_acs_tract_2016.shape)\n",
    "print(df_acs_tract_2019.shape)"
   ]
  },
  {
   "cell_type": "code",
   "execution_count": 61,
   "metadata": {},
   "outputs": [],
   "source": [
    "df_tract_temp = pd.merge(df_acs_tract_2016, df_acs_tract_2019, on='GEOID_tract', how='left')\n",
    "\n",
    "# Change the column name\n",
    "df_tract_temp = df_tract_temp.rename(columns={'median_gross_rent':'median_gross_rent_tract_2019', \n",
    "                        'median_gross_rent_2016':'median_gross_rent_tract_2016',\n",
    "                        'housing_median_value':'housing_median_value_tract_2019',\n",
    "                        'housing_median_value_2016':'housing_median_value_tract_2016'})\n",
    "\n",
    "df_acs = pd.merge(df_acs, df_tract_temp, on='GEOID_tract', how='left')"
   ]
  },
  {
   "cell_type": "code",
   "execution_count": 64,
   "metadata": {},
   "outputs": [
    {
     "data": {
      "text/plain": [
       "(1669, 86)"
      ]
     },
     "execution_count": 64,
     "metadata": {},
     "output_type": "execute_result"
    }
   ],
   "source": [
    "df_acs.shape"
   ]
  },
  {
   "cell_type": "code",
   "execution_count": null,
   "metadata": {},
   "outputs": [],
   "source": [
    "# # Read census tract relationship file between 2010 and 2020\n",
    "# file_path = 'https://www2.census.gov/geo/docs/maps-data/data/rel2020/tract/tab20_tract20_tract10_natl.txt'\n",
    "# df_tract_rel = pd.read_csv(file_path, sep='|')\n",
    "\n",
    "# # Select only Dallas County, Texas\n",
    "# df_tract_rel['GEOID_TRACT_20'] = df_tract_rel['GEOID_TRACT_20'].astype(str)\n",
    "# df_tract_rel['GEOID_TRACT_10'] = df_tract_rel['GEOID_TRACT_10'].astype(str)\n",
    "# df_tract_rel = df_tract_rel[df_tract_rel['GEOID_TRACT_20'].str.startswith('48113')]\n",
    "\n",
    "# # Merge df_acs_tract_2021 and df_acs_tract_2016 with df_tract_rel\n",
    "# df_tract_temp = pd.merge(df_acs_tract_2021, df_tract_rel[['GEOID_TRACT_20', 'GEOID_TRACT_10']], left_on='GEOID_tract', right_on='GEOID_TRACT_20')\n",
    "# df_tract_temp2 = pd.merge(df_tract_temp, df_acs_tract_2016, left_on='GEOID_TRACT_10', right_on='GEOID_tract')\n",
    "# df_tract_temp2 = df_tract_temp2[['GEOID_tract_x','median_gross_rent','median_gross_rent_2016','housing_median_value','housing_median_value_2016']].groupby('GEOID_tract_x').mean()\n",
    "\n",
    "# # Change the column name\n",
    "# df_tract_temp2 = df_tract_temp2.rename(columns={'median_gross_rent':'median_gross_rent_tract_2021', \n",
    "#                                                 'median_gross_rent_2016':'median_gross_rent_tract_2016',\n",
    "#                                                 'housing_median_value':'housing_median_value_tract_2021',\n",
    "#                                                 'housing_median_value_2016':'housing_median_value_tract_2016'})\n",
    "\n",
    "# # Merge df_acs and df_tract_temp2\n",
    "# df_acs = pd.merge(df_acs, df_tract_temp2, left_on='GEOID_tract', right_on='GEOID_tract_x', how='left')"
   ]
  },
  {
   "cell_type": "code",
   "execution_count": 65,
   "metadata": {},
   "outputs": [],
   "source": [
    "# Merge ACS and Eviction dataframes\n",
    "df_evic2.reset_index(inplace=True)\n",
    "df_evic2['GEOID'] = df_evic2['GEOID'].astype(str)\n",
    "\n",
    "df_evic3.reset_index(inplace=True)\n",
    "df_evic3['GEOID'] = df_evic3['GEOID'].astype(str)\n",
    "\n",
    "# Merge df_acs and df_evic['geometry] first before merging with df_evic2\n",
    "df_acs2 = pd.merge(df_acs, df_evic[['GEOID','geometry']].drop_duplicates(), on='GEOID', how='left')\n",
    "\n",
    "# Merge df_acs and df_evic2\n",
    "df = pd.merge(df_acs2, df_evic2, on='GEOID', how='left')\n",
    "\n",
    "# Merge df_acs and df_evic3 (non-payment(np) of rent)\n",
    "df_np = pd.merge(df_acs2, df_evic3, on='GEOID', how='left')"
   ]
  },
  {
   "cell_type": "code",
   "execution_count": 66,
   "metadata": {},
   "outputs": [],
   "source": [
    "# Select required columns\n",
    "required_cols = ['GEOID','geometry_x','case_number', 'amount_filed', 'total_population', 'median_age' ,\n",
    "                 'race_white', 'race_black', 'race_asian', 'race_hispanic','hh_total', 'children_total', \n",
    "                 'edu_att_over25_no_schooling_completed', 'edu_att_over25_highschool_graduate', \n",
    "                 'edu_att_over25_master_degree', 'edu_att_over25_professional_degree',\n",
    "                 'edu_att_over25_doctorate_degree', 'children_w_married_couple',\n",
    "                 'children_w_male_hh', 'children_w_female_hh',\n",
    "                 'no_internet_access', 'housing_unit',\n",
    "                 'housing_vacant', 'tenure_renter_occupied', 'vacancy_for_rent', 'median_year_built', \n",
    "                 'ind_poverty', 'hh_median_income',\n",
    "                 'median_gross_rent_tract_2019', 'median_gross_rent_tract_2016',\n",
    "                 'housing_median_value_tract_2019', 'housing_median_value_tract_2016',\n",
    "                 'mortgage_status_total', 'mortgage_status_w_mortgage','median_monthly_owner_costs',\t\n",
    "                 'median_monthly_owner_costs_w_mortgage', 'hh_nonfamily','hh_living_alone',\n",
    "                 'hh_average_size_renter_occupied',\n",
    "                 '1unit_detached_structure', '1unit_attached_structure', 'units_in_structure_20_49', 'units_in_structure_50ormore',\n",
    "                 'gross_rent_percent_hhincome_total',\n",
    "                 'gross_rent_percent_hhincome_40to50', 'gross_rent_percent_hhincome_50ormore',\n",
    "                 'ind_labor_force', 'ind_labor_force_civilian_unemployed',\n",
    "                 'hh_w_ssi', 'hh_w_pai', 'hh_w_foodstamp_SNAP',\n",
    "                 'time_to_work_total', 'time_to_work_lt5', 'time_to_work_5to9',\n",
    "                 'time_to_work_10to14', 'time_to_work_15to19', 'time_to_work_20to24', \n",
    "                 'time_to_work_25to29', 'time_to_work_30to34', 'time_to_work_35to39', \n",
    "                 'time_to_work_40to44', 'time_to_work_45to59', 'time_to_work_60to89', 'time_to_work_mt90'\n",
    "                 ]\n",
    "df = df[required_cols]"
   ]
  },
  {
   "cell_type": "code",
   "execution_count": 67,
   "metadata": {},
   "outputs": [],
   "source": [
    "# Select required columns (without amount_filed)\n",
    "required_cols = ['GEOID','geometry_x','case_number', 'total_population', 'median_age' ,\n",
    "                 'race_white', 'race_black', 'race_asian', 'race_hispanic','hh_total', 'children_total', \n",
    "                 'edu_att_over25_no_schooling_completed', 'edu_att_over25_highschool_graduate', \n",
    "                 'edu_att_over25_master_degree', 'edu_att_over25_professional_degree',\n",
    "                 'edu_att_over25_doctorate_degree', 'children_w_married_couple',\n",
    "                 'children_w_male_hh', 'children_w_female_hh',\n",
    "                 'no_internet_access', 'housing_unit',\n",
    "                 'housing_vacant', 'tenure_renter_occupied', 'vacancy_for_rent', 'median_year_built', \n",
    "                 'housing_median_value', 'ind_poverty', 'hh_median_income', 'median_gross_rent', \n",
    "                 'median_gross_rent_tract_2019', 'median_gross_rent_tract_2016',\n",
    "                 'housing_median_value_tract_2019', 'housing_median_value_tract_2016',\n",
    "                 'mortgage_status_total', 'mortgage_status_w_mortgage','median_monthly_owner_costs',\t\n",
    "                 'median_monthly_owner_costs_w_mortgage', 'hh_nonfamily','hh_living_alone',\n",
    "                 'hh_average_size_renter_occupied',\n",
    "                 '1unit_detached_structure', '1unit_attached_structure', 'units_in_structure_20_49', 'units_in_structure_50ormore',\n",
    "                 'gross_rent_percent_hhincome_total',\n",
    "                 'gross_rent_percent_hhincome_40to50', 'gross_rent_percent_hhincome_50ormore',\n",
    "                 'ind_labor_force', 'ind_labor_force_civilian_unemployed',\n",
    "                 'hh_w_ssi', 'hh_w_pai', 'hh_w_foodstamp_SNAP',\n",
    "                 'time_to_work_total', 'time_to_work_lt5', 'time_to_work_5to9',\n",
    "                 'time_to_work_10to14', 'time_to_work_15to19', 'time_to_work_20to24', \n",
    "                 'time_to_work_25to29', 'time_to_work_30to34', 'time_to_work_35to39', \n",
    "                 'time_to_work_40to44', 'time_to_work_45to59', 'time_to_work_60to89', 'time_to_work_mt90'\n",
    "                 ]\n",
    "df_np = df_np[required_cols]"
   ]
  },
  {
   "cell_type": "code",
   "execution_count": 68,
   "metadata": {},
   "outputs": [],
   "source": [
    "# Separate df into integer, float and string dataframes\n",
    "df_int = df.select_dtypes(include=['int64'])\n",
    "df_str = df.select_dtypes(include=['object'])\n",
    "df_float = df.select_dtypes(include=['float64'])\n",
    "\n",
    "df_np_int = df_np.select_dtypes(include=['int64'])\n",
    "df_np_str = df_np.select_dtypes(include=['object'])\n",
    "df_np_float = df_np.select_dtypes(include=['float64'])\n",
    "\n",
    "# Replace negative values with NaN\n",
    "df_int[df_int < 0] = np.nan\n",
    "df_float[df_float < 0] = np.nan\n",
    "\n",
    "df_np_int[df_np_int < 0] = np.nan\n",
    "df_np_float[df_np_float < 0] = np.nan"
   ]
  },
  {
   "cell_type": "code",
   "execution_count": 69,
   "metadata": {},
   "outputs": [],
   "source": [
    "# Concatenate integer, float and string dataframes\n",
    "df2 = pd.concat([df['geometry_x'], df_int, df_float, df_str], axis=1)\n",
    "df_np2 = pd.concat([df_np['geometry_x'], df_np_int, df_np_float, df_np_str], axis=1)"
   ]
  },
  {
   "cell_type": "code",
   "execution_count": 70,
   "metadata": {},
   "outputs": [],
   "source": [
    "# Create new columns: eviction counts (per 1000 housing units)\n",
    "df2['eviction_rate'] = ((df2['case_number'] / 5) / (df2['housing_unit']))*1000\n",
    "df2['eviction_rate'] = df2['eviction_rate'].round()\n",
    "\n",
    "# Create a new column: eviction counts per 1000 renter occupied housing units\n",
    "df2['eviction_rate_renter'] = ((df2['case_number'] / 5) / (df2['tenure_renter_occupied']))*1000\n",
    "df2['eviction_rate_renter'] = df2['eviction_rate_renter'].round()\n",
    "\n",
    "# Create new columns: education level less than high school\n",
    "df2['edu_lt_highschool'] = (df2['edu_att_over25_no_schooling_completed'] + df2['edu_att_over25_highschool_graduate'])/df2['total_population']\n",
    "\n",
    "# Create new columns: education level with graduate degree\n",
    "df2['edu_grad'] = (df2['edu_att_over25_master_degree'] + df2['edu_att_over25_professional_degree'] + df2['edu_att_over25_doctorate_degree'])/df2['total_population']\n",
    "\n",
    "# Create new columns: black people percentage\n",
    "df2['black_ratio'] = df2['race_black'] / df2['total_population']\n",
    "\n",
    "# Create new columns: white people percentage\n",
    "df2['white_ratio'] = df2['race_white'] / df2['total_population']\n",
    "\n",
    "# Create new columns: asian people percentage\n",
    "df2['asian_ratio'] = df2['race_asian'] / df2['total_population']\n",
    "\n",
    "# Create new columns: hispanic people percentage\n",
    "df2['hispanic_ratio'] = df2['race_hispanic'] / df2['total_population']\n",
    "\n",
    "# Create new columns: children in married-couple households\n",
    "df2['children_w_married_couple_ratio'] = df2['children_w_married_couple'] / df2['children_total']\n",
    "\n",
    "# Create new columns: children in male-householder households without spouse\n",
    "df2['children_w_male_hh_ratio'] = df2['children_w_male_hh'] / df2['children_total']\n",
    "\n",
    "# Create new columns: children in male-householder households without spouse\n",
    "df2['children_w_female_hh_ratio'] = df2['children_w_female_hh'] / df2['children_total']\n",
    "\n",
    "# Create new columns: renter occupied housing unit percentage\n",
    "df2['renter_occ_rate'] = df2['tenure_renter_occupied'] / df2['housing_unit']\n",
    "\n",
    "# Create new columns: vacant housing unit percentage (for rent)\n",
    "df2['vacancy_rate'] = df2['vacancy_for_rent'] / df2['housing_unit']\n",
    "\n",
    "# Create new columns: unemployment rate\n",
    "df2['unemployment_rate'] = df2['ind_labor_force_civilian_unemployed'] / df2['ind_labor_force']\n",
    "\n",
    "# Create new columns: poverty rate\n",
    "df2['poverty_rate'] = df2['ind_poverty'] / df2['total_population']\n",
    "\n",
    "# Create new columns: single unit structure percentage\n",
    "df2['1unit_structure_ratio'] = (df2['1unit_detached_structure'] + df2['1unit_attached_structure']) / df2['housing_unit']\n",
    "\n",
    "# Create new columns: multi-unit structure percentage\n",
    "df2['multiunit_structure_ratio'] = (df2['units_in_structure_20_49'] + df2['units_in_structure_50ormore']) / df2['housing_unit']\n",
    "\n",
    "# Create new columns: household ratio with social programs\n",
    "df2['hh_social_programs'] = (df2['hh_w_ssi'] + df2['hh_w_pai'] + df2['hh_w_foodstamp_SNAP'])/df2['hh_total']\n",
    "\n",
    "# Create new columns: morgage status percentage\n",
    "df2['mortgage_status_ratio'] = df2['mortgage_status_w_mortgage'] / df2['housing_unit']\n",
    "\n",
    "# Create new columns: gross rent percentage\n",
    "df2['gross_rent_mt40'] = (df2['gross_rent_percent_hhincome_40to50'] + df2['gross_rent_percent_hhincome_50ormore'])/df2['gross_rent_percent_hhincome_total']\n",
    "\n",
    "# Create new columns: gross rent percentage more than 50% of household income\n",
    "df2['gross_rent_mt50'] = df2['gross_rent_percent_hhincome_50ormore']/df2['gross_rent_percent_hhincome_total']\n",
    "\n",
    "# Create new columns: household with nonfamily ratio\n",
    "df2['hh_nonfamily_ratio'] = df2['hh_nonfamily'] / df2['hh_total']\n",
    "\n",
    "# Create new columns: householder living alone ratio\n",
    "df2['hher_living_alone_ratio'] = df2['hh_living_alone'] / df2['hh_total']\n",
    "\n",
    "# Create new columns: time to work less than 30 mins\n",
    "df2['time_to_work_lt30'] = (df2['time_to_work_lt5'] + df2['time_to_work_5to9'] + df2['time_to_work_10to14'] + df2['time_to_work_15to19'] + df2['time_to_work_20to24'] + df2['time_to_work_25to29'])/df2['time_to_work_total']\n",
    "\n",
    "# Create new columns: time to work between 30 and 59 mins\n",
    "df2['time_to_work_30to59'] = (df2['time_to_work_30to34'] + df2['time_to_work_35to39'] + df2['time_to_work_40to44'] + df2['time_to_work_45to59'])/df2['time_to_work_total']\n",
    "\n",
    "# Create new columns: time to work more than 60 mins\n",
    "df2['time_to_work_mt60'] = (df2['time_to_work_60to89'] + df2['time_to_work_mt90'])/df2['time_to_work_total']\n",
    "\n",
    "# Create new columns: median gross rent change between 2016 and 2021\n",
    "df2['median_gross_rent_tract_2016'] = df2['median_gross_rent_tract_2016'] + 1\n",
    "df2['median_gross_rent_tract_2019'] = df2['median_gross_rent_tract_2019'] + 1\n",
    "df2['median_gross_rent_change'] = (df2['median_gross_rent_tract_2019'] - df2['median_gross_rent_tract_2016'])/df2['median_gross_rent_tract_2016']\n",
    "\n",
    "# Create new columns: housing median value change between 2016 and 2021\n",
    "df2['housing_median_value_tract_2016'] = df2['housing_median_value_tract_2016'] + 1\n",
    "df2['housing_median_value_tract_2019'] = df2['housing_median_value_tract_2019'] + 1\n",
    "df2['housing_median_value_change'] = (df2['housing_median_value_tract_2019'] - df2['housing_median_value_tract_2016'])/df2['housing_median_value_tract_2016']\n",
    "\n",
    "# Create new columns: no internet access percentage\n",
    "df2['no_internet_access_ratio'] = df2['no_internet_access'] / df2['hh_total']"
   ]
  },
  {
   "cell_type": "code",
   "execution_count": 71,
   "metadata": {},
   "outputs": [],
   "source": [
    "# Create new columns: eviction rate\n",
    "df_np2['eviction_rate'] = ((df_np2['case_number'] / 5) / (df_np2['housing_unit']))*1000\n",
    "df_np2['eviction_rate'] = df_np2['eviction_rate'].round()\n",
    "\n",
    "# Create a new column: eviction counts per 1000 renter occupied housing units\n",
    "df_np2['eviction_rate_renter'] = ((df_np2['case_number'] / 5) / (df_np2['tenure_renter_occupied']))*1000\n",
    "df_np2['eviction_rate_renter'] = df_np2['eviction_rate_renter'].round()\n",
    "\n",
    "# Create new columns: education level less than high school\n",
    "df_np2['edu_lt_highschool'] = (df_np2['edu_att_over25_no_schooling_completed'] + df_np2['edu_att_over25_highschool_graduate'])/df_np2['total_population']\n",
    "\n",
    "# Create new columns: education level with graduate degree\n",
    "df_np2['edu_grad'] = (df_np2['edu_att_over25_master_degree'] + df_np2['edu_att_over25_professional_degree'] + df_np2['edu_att_over25_doctorate_degree'])/df_np2['total_population']\n",
    "\n",
    "# Create new columns: black people percentage\n",
    "df_np2['black_ratio'] = df_np2['race_black'] / df_np2['total_population']\n",
    "\n",
    "# Create new columns: white people percentage\n",
    "df_np2['white_ratio'] = df_np2['race_white'] / df_np2['total_population']\n",
    "\n",
    "# Create new columns: asian people percentage\n",
    "df_np2['asian_ratio'] = df_np2['race_asian'] / df_np2['total_population']\n",
    "\n",
    "# Create new columns: hispanic people percentage\n",
    "df_np2['hispanic_ratio'] = df_np2['race_hispanic'] / df_np2['total_population']\n",
    "\n",
    "# Create new columns: children in married-couple households\n",
    "df_np2['children_w_married_couple_ratio'] = df_np2['children_w_married_couple'] / df_np2['children_total']\n",
    "\n",
    "# Create new columns: children in male-householder households without spouse\n",
    "df_np2['children_w_male_hh_ratio'] = df_np2['children_w_male_hh'] / df_np2['children_total']\n",
    "\n",
    "# Create new columns: children in male-householder households without spouse\n",
    "df_np2['children_w_female_hh_ratio'] = df_np2['children_w_female_hh'] / df_np2['children_total']\n",
    "\n",
    "# Create new columns: renter occupied housing unit percentage\n",
    "df_np2['renter_occ_rate'] = df_np2['tenure_renter_occupied'] / df_np2['housing_unit']\n",
    "\n",
    "# Create new columns: vacant housing unit percentage (for rent)\n",
    "df_np2['vacancy_rate'] = df_np2['vacancy_for_rent'] / df_np2['housing_unit']\n",
    "\n",
    "# Create new columns: unemployment rate\n",
    "df_np2['unemployment_rate'] = df_np2['ind_labor_force_civilian_unemployed'] / df_np2['ind_labor_force']\n",
    "\n",
    "# Create new columns: poverty rate\n",
    "df_np2['poverty_rate'] = df_np2['ind_poverty'] / df_np2['total_population']\n",
    "\n",
    "# Create new columns: single unit structure percentage\n",
    "df_np2['1unit_structure_ratio'] = (df_np2['1unit_detached_structure'] + df_np2['1unit_attached_structure']) / df_np2['housing_unit']\n",
    "\n",
    "# Create new columns: multi-unit structure percentage\n",
    "df_np2['multiunit_structure_ratio'] = (df_np2['units_in_structure_20_49'] + df_np2['units_in_structure_50ormore']) / df_np2['housing_unit']\n",
    "\n",
    "# Create new columns: household ratio with social programs\n",
    "df_np2['hh_social_programs'] = (df_np2['hh_w_ssi'] + df_np2['hh_w_pai'] + df_np2['hh_w_foodstamp_SNAP'])/df_np2['hh_total']\n",
    "\n",
    "# Create new columns: morgage status percentage\n",
    "df_np2['mortgage_status_ratio'] = df_np2['mortgage_status_w_mortgage'] / df_np2['mortgage_status_total']\n",
    "\n",
    "# Create new columns: gross rent percentage\n",
    "df_np2['gross_rent_mt40'] = (df_np2['gross_rent_percent_hhincome_40to50'] + df_np2['gross_rent_percent_hhincome_50ormore'])/df_np2['gross_rent_percent_hhincome_total']\n",
    "\n",
    "# Create new columns: gross rent percentage more than 50% of household income\n",
    "df_np2['gross_rent_mt50'] = df_np2['gross_rent_percent_hhincome_50ormore']/df_np2['gross_rent_percent_hhincome_total']\n",
    "\n",
    "# Create new columns: household with nonfamily ratio\n",
    "df_np2['hh_nonfamily_ratio'] = df_np2['hh_nonfamily'] / df_np2['hh_total']\n",
    "\n",
    "# Create new columns: householder living alone ratio\n",
    "df_np2['hher_living_alone_ratio'] = df_np2['hh_living_alone'] / df_np2['hh_total']\n",
    "\n",
    "# Create new columns: time to work less than 30 mins\n",
    "df_np2['time_to_work_lt30'] = (df_np2['time_to_work_lt5'] + df_np2['time_to_work_5to9'] + df_np2['time_to_work_10to14'] + df_np2['time_to_work_15to19'] + df_np2['time_to_work_20to24'] + df_np2['time_to_work_25to29'])/df_np2['time_to_work_total']\n",
    "\n",
    "# Create new columns: time to work between 30 and 59 mins\n",
    "df_np2['time_to_work_30to59'] = (df_np2['time_to_work_30to34'] + df_np2['time_to_work_35to39'] + df_np2['time_to_work_40to44'] + df_np2['time_to_work_45to59'])/df_np2['time_to_work_total']\n",
    "\n",
    "# Create new columns: time to work more than 60 mins\n",
    "df_np2['time_to_work_mt60'] = (df_np2['time_to_work_60to89'] + df_np2['time_to_work_mt90'])/df_np2['time_to_work_total']\n",
    "\n",
    "# Create new columns: median gross rent change between 2016 and 2021\n",
    "df_np2['median_gross_rent_tract_2016'] = df_np2['median_gross_rent_tract_2016'] + 1\n",
    "df_np2['median_gross_rent_tract_2019'] = df_np2['median_gross_rent_tract_2019'] + 1\n",
    "df_np2['median_gross_rent_change'] = (df_np2['median_gross_rent_tract_2019'] - df_np2['median_gross_rent_tract_2016'])/df_np2['median_gross_rent_tract_2016']\n",
    "\n",
    "# Create new columns: housing median value change between 2016 and 2021\n",
    "df_np2['housing_median_value_tract_2016'] = df_np2['housing_median_value_tract_2016'] + 1\n",
    "df_np2['housing_median_value_tract_2019'] = df_np2['housing_median_value_tract_2019'] + 1\n",
    "df_np2['housing_median_value_change'] = (df_np2['housing_median_value_tract_2019'] - df_np2['housing_median_value_tract_2016'])/df_np2['housing_median_value_tract_2016']\n",
    "\n",
    "# Create new columns: no internet access percentage\n",
    "df_np2['no_internet_access_ratio'] = df_np2['no_internet_access'] / df_np2['hh_total']"
   ]
  },
  {
   "cell_type": "code",
   "execution_count": 72,
   "metadata": {},
   "outputs": [
    {
     "name": "stdout",
     "output_type": "stream",
     "text": [
      "(1669, 93)\n",
      "(1669, 94)\n"
     ]
    }
   ],
   "source": [
    "print(df2.shape)\n",
    "print(df_np2.shape)"
   ]
  },
  {
   "cell_type": "code",
   "execution_count": 73,
   "metadata": {},
   "outputs": [],
   "source": [
    "# Remove rows with zero total population\n",
    "df2 = df2[df2['total_population']!=0]\n",
    "df_np2 = df_np2[df_np2['total_population']!=0]\n",
    "\n",
    "# Remove rows with zero housing unit\n",
    "df2 = df2[df2['housing_unit']!=0]\n",
    "df_np2 = df_np2[df_np2['housing_unit']!=0]\n",
    "\n",
    "# Replace NaN with zero for 'gross_rent_mt40' if 'tenure_renter_occupied' = 0\n",
    "df2.loc[df2['tenure_renter_occupied']==0, 'gross_rent_mt40'] = 0\n",
    "df_np2.loc[df_np2['tenure_renter_occupied']==0, 'gross_rent_mt40'] = 0\n",
    "\n",
    "# Replace NaN with zero for 'gross_rent_mt50' if 'tenure_renter_occupied' = 0\n",
    "df2.loc[df2['tenure_renter_occupied']==0, 'gross_rent_mt50'] = 0\n",
    "df_np2.loc[df_np2['tenure_renter_occupied']==0, 'gross_rent_mt50'] = 0\n",
    "\n",
    "# Replace NaN with zero for 'mortgate_status_ratio' if 'mortgage_status_total' = 0\n",
    "df2.loc[df2['mortgage_status_total']==0, 'mortgage_status_ratio'] = 0\n",
    "df_np2.loc[df_np2['mortgage_status_total']==0, 'mortgage_status_ratio'] = 0\n",
    "\n",
    "# Replace NaN with zero for 'eviction_rate_renter' if 'eviction_rate_renter' = 0\n",
    "df2['eviction_rate_renter'].fillna(0, inplace=True)\n",
    "df_np2['eviction_rate_renter'].fillna(0, inplace=True)\n",
    "df2['eviction_rate_renter'].replace([np.inf, -np.inf], 0, inplace=True)\n",
    "df_np2['eviction_rate_renter'].replace([np.inf, -np.inf], 0, inplace=True)\n",
    "\n",
    "# Fill NaN with 0 for 'case_number' and 'amount_filed'\n",
    "df2['case_number'].fillna(0, inplace=True)\n",
    "df_np2['case_number'].fillna(0, inplace=True)\n",
    "df2['amount_filed'].fillna(0, inplace=True)\n",
    "\n",
    "# Fill NaN with 0 for 'eviction_rate'\n",
    "df2['eviction_rate'].fillna(0, inplace=True)\n",
    "df_np2['eviction_rate'].fillna(0, inplace=True)\n",
    "\n",
    "# Fill NaN with 0 for 'hh_w_child_male_hh_ratio'\n",
    "df2['children_w_male_hh_ratio'].fillna(0, inplace=True)\n",
    "df_np2['children_w_male_hh_ratio'].fillna(0, inplace=True)\n",
    "\n",
    "# Fill NaN with 0 for 'hh_w_child_female_hh_ratio'\n",
    "df2['children_w_female_hh_ratio'].fillna(0, inplace=True)\n",
    "df_np2['children_w_female_hh_ratio'].fillna(0, inplace=True)\n",
    "\n",
    "# Fill NaN with 0 for 'children_w_married_couple_ratio'\n",
    "df2['children_w_married_couple_ratio'].fillna(0, inplace=True)\n",
    "df_np2['children_w_married_couple_ratio'].fillna(0, inplace=True)"
   ]
  },
  {
   "cell_type": "code",
   "execution_count": 74,
   "metadata": {},
   "outputs": [
    {
     "name": "stdout",
     "output_type": "stream",
     "text": [
      "(1665, 93)\n",
      "(1665, 94)\n"
     ]
    }
   ],
   "source": [
    "print(df2.shape)\n",
    "print(df_np2.shape)"
   ]
  },
  {
   "cell_type": "code",
   "execution_count": 75,
   "metadata": {},
   "outputs": [],
   "source": [
    "df2.to_csv('data/acs_evic_data_wo_zero_pop_prepandemic.csv')\n",
    "df_np2.to_csv('data/acs_evic_data_np_wo_zero_pop_prepandemic.csv')"
   ]
  }
 ],
 "metadata": {
  "kernelspec": {
   "display_name": "base",
   "language": "python",
   "name": "python3"
  },
  "language_info": {
   "codemirror_mode": {
    "name": "ipython",
    "version": 3
   },
   "file_extension": ".py",
   "mimetype": "text/x-python",
   "name": "python",
   "nbconvert_exporter": "python",
   "pygments_lexer": "ipython3",
   "version": "3.11.4"
  },
  "orig_nbformat": 4
 },
 "nbformat": 4,
 "nbformat_minor": 2
}
