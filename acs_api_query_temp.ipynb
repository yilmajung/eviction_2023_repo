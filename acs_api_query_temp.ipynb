{
 "cells": [
  {
   "cell_type": "code",
   "execution_count": 1,
   "metadata": {},
   "outputs": [],
   "source": [
    "# Import requisite packages\n",
    "import numpy as np\n",
    "import pandas as pd\n",
    "import requests\n",
    "\n",
    "# Create a function for querying data from Census ACS API\n",
    "def query_census_api_at_block_group(api_key, year, var_dict):\n",
    "    '''\n",
    "    Create a dataframe with Census Block Group level data for a given year and variable dictionary.\n",
    "    api_key = Census API key\n",
    "    year = Census year\n",
    "    var_dict = Dictionary of variables to query from Census API\n",
    "    '''\n",
    "    \n",
    "    # Create a basic data frame with Census Block Group level info\n",
    "    url = f'https://api.census.gov/data/{year}/acs/acs5?get=NAME,B01001_001E&for=block%20group:*&in=state:48%20county:113&key={api_key}'\n",
    "    response = requests.request(\"GET\", url)\n",
    "    df = pd.DataFrame(response.json()[1:], columns=response.json()[0])[['NAME','state','county','tract','block group']]\n",
    "    \n",
    "    # Query Census Block Group Level Dataset\n",
    "    for key, item in var_dict.items():\n",
    "        url = f'https://api.census.gov/data/{year}/acs/acs5?get=NAME,{key}&for=block%20group:*&in=state:48%20county:113&key={api_key}'\n",
    "        response = requests.request(\"GET\", url)\n",
    "        df[item] = pd.DataFrame(response.json()[1:], columns=response.json()[0])[key]\n",
    "\n",
    "    return df    \n",
    "\n"
   ]
  },
  {
   "cell_type": "code",
   "execution_count": 2,
   "metadata": {},
   "outputs": [],
   "source": [
    "# Set census API key, year, and variable dictionary\n",
    "census_api_key = 'b32d020a89fe8d18a9aad261a0b94e3725748774'\n",
    "year = '2019'\n"
   ]
  },
  {
   "cell_type": "code",
   "execution_count": 3,
   "metadata": {},
   "outputs": [
    {
     "data": {
      "text/plain": [
       "0       23\n",
       "1        0\n",
       "2        0\n",
       "3       73\n",
       "4       89\n",
       "        ..\n",
       "1664    81\n",
       "1665     0\n",
       "1666    23\n",
       "1667    21\n",
       "1668     0\n",
       "Name: B25002_003E, Length: 1669, dtype: object"
      ]
     },
     "execution_count": 3,
     "metadata": {},
     "output_type": "execute_result"
    }
   ],
   "source": [
    "key = 'B25002_003E'\n",
    "url = f'https://api.census.gov/data/{year}/acs/acs5?get=NAME,{key}&for=block%20group:*&in=state:48%20county:113&key={census_api_key}'\n",
    "response = requests.request(\"GET\", url)\n",
    "pd.DataFrame(response.json()[1:], columns=response.json()[0])[key]"
   ]
  },
  {
   "cell_type": "code",
   "execution_count": 4,
   "metadata": {},
   "outputs": [
    {
     "data": {
      "text/plain": [
       "0       37\n",
       "1        0\n",
       "2        0\n",
       "3        0\n",
       "4        0\n",
       "        ..\n",
       "1565    26\n",
       "1566     0\n",
       "1567     0\n",
       "1568     0\n",
       "1569    54\n",
       "Name: B25004_002E, Length: 1570, dtype: object"
      ]
     },
     "execution_count": 4,
     "metadata": {},
     "output_type": "execute_result"
    }
   ],
   "source": [
    "key = 'B25004_002E'\n",
    "url = f'https://api.census.gov/data/{year}/acs/acs5?get=NAME,{key}&for=block%20group:*&in=state:48%20county:113&key={census_api_key}'\n",
    "response = requests.request(\"GET\", url)\n",
    "pd.DataFrame(response.json()[1:], columns=response.json()[0])[key]"
   ]
  },
  {
   "cell_type": "code",
   "execution_count": 4,
   "metadata": {},
   "outputs": [
    {
     "data": {
      "text/plain": [
       "0       491\n",
       "1       298\n",
       "2       317\n",
       "3       474\n",
       "4       331\n",
       "       ... \n",
       "1664    382\n",
       "1665    376\n",
       "1666    667\n",
       "1667    269\n",
       "1668    321\n",
       "Name: B11001_001E, Length: 1669, dtype: object"
      ]
     },
     "execution_count": 4,
     "metadata": {},
     "output_type": "execute_result"
    }
   ],
   "source": [
    "key = 'B11001_001E'\n",
    "url = f'https://api.census.gov/data/{year}/acs/acs5?get=NAME,{key}&for=block%20group:*&in=state:48%20county:113&key={census_api_key}'\n",
    "response = requests.request(\"GET\", url)\n",
    "pd.DataFrame(response.json()[1:], columns=response.json()[0])[key]"
   ]
  },
  {
   "cell_type": "code",
   "execution_count": 12,
   "metadata": {},
   "outputs": [
    {
     "ename": "JSONDecodeError",
     "evalue": "Expecting value: line 1 column 1 (char 0)",
     "output_type": "error",
     "traceback": [
      "\u001b[0;31m---------------------------------------------------------------------------\u001b[0m",
      "\u001b[0;31mJSONDecodeError\u001b[0m                           Traceback (most recent call last)",
      "File \u001b[0;32m~/anaconda3/lib/python3.11/site-packages/requests/models.py:971\u001b[0m, in \u001b[0;36mResponse.json\u001b[0;34m(self, **kwargs)\u001b[0m\n\u001b[1;32m    970\u001b[0m \u001b[39mtry\u001b[39;00m:\n\u001b[0;32m--> 971\u001b[0m     \u001b[39mreturn\u001b[39;00m complexjson\u001b[39m.\u001b[39mloads(\u001b[39mself\u001b[39m\u001b[39m.\u001b[39mtext, \u001b[39m*\u001b[39m\u001b[39m*\u001b[39mkwargs)\n\u001b[1;32m    972\u001b[0m \u001b[39mexcept\u001b[39;00m JSONDecodeError \u001b[39mas\u001b[39;00m e:\n\u001b[1;32m    973\u001b[0m     \u001b[39m# Catch JSON-related errors and raise as requests.JSONDecodeError\u001b[39;00m\n\u001b[1;32m    974\u001b[0m     \u001b[39m# This aliases json.JSONDecodeError and simplejson.JSONDecodeError\u001b[39;00m\n",
      "File \u001b[0;32m~/anaconda3/lib/python3.11/json/__init__.py:346\u001b[0m, in \u001b[0;36mloads\u001b[0;34m(s, cls, object_hook, parse_float, parse_int, parse_constant, object_pairs_hook, **kw)\u001b[0m\n\u001b[1;32m    343\u001b[0m \u001b[39mif\u001b[39;00m (\u001b[39mcls\u001b[39m \u001b[39mis\u001b[39;00m \u001b[39mNone\u001b[39;00m \u001b[39mand\u001b[39;00m object_hook \u001b[39mis\u001b[39;00m \u001b[39mNone\u001b[39;00m \u001b[39mand\u001b[39;00m\n\u001b[1;32m    344\u001b[0m         parse_int \u001b[39mis\u001b[39;00m \u001b[39mNone\u001b[39;00m \u001b[39mand\u001b[39;00m parse_float \u001b[39mis\u001b[39;00m \u001b[39mNone\u001b[39;00m \u001b[39mand\u001b[39;00m\n\u001b[1;32m    345\u001b[0m         parse_constant \u001b[39mis\u001b[39;00m \u001b[39mNone\u001b[39;00m \u001b[39mand\u001b[39;00m object_pairs_hook \u001b[39mis\u001b[39;00m \u001b[39mNone\u001b[39;00m \u001b[39mand\u001b[39;00m \u001b[39mnot\u001b[39;00m kw):\n\u001b[0;32m--> 346\u001b[0m     \u001b[39mreturn\u001b[39;00m _default_decoder\u001b[39m.\u001b[39mdecode(s)\n\u001b[1;32m    347\u001b[0m \u001b[39mif\u001b[39;00m \u001b[39mcls\u001b[39m \u001b[39mis\u001b[39;00m \u001b[39mNone\u001b[39;00m:\n",
      "File \u001b[0;32m~/anaconda3/lib/python3.11/json/decoder.py:337\u001b[0m, in \u001b[0;36mJSONDecoder.decode\u001b[0;34m(self, s, _w)\u001b[0m\n\u001b[1;32m    333\u001b[0m \u001b[39m\u001b[39m\u001b[39m\"\"\"Return the Python representation of ``s`` (a ``str`` instance\u001b[39;00m\n\u001b[1;32m    334\u001b[0m \u001b[39mcontaining a JSON document).\u001b[39;00m\n\u001b[1;32m    335\u001b[0m \n\u001b[1;32m    336\u001b[0m \u001b[39m\"\"\"\u001b[39;00m\n\u001b[0;32m--> 337\u001b[0m obj, end \u001b[39m=\u001b[39m \u001b[39mself\u001b[39m\u001b[39m.\u001b[39mraw_decode(s, idx\u001b[39m=\u001b[39m_w(s, \u001b[39m0\u001b[39m)\u001b[39m.\u001b[39mend())\n\u001b[1;32m    338\u001b[0m end \u001b[39m=\u001b[39m _w(s, end)\u001b[39m.\u001b[39mend()\n",
      "File \u001b[0;32m~/anaconda3/lib/python3.11/json/decoder.py:355\u001b[0m, in \u001b[0;36mJSONDecoder.raw_decode\u001b[0;34m(self, s, idx)\u001b[0m\n\u001b[1;32m    354\u001b[0m \u001b[39mexcept\u001b[39;00m \u001b[39mStopIteration\u001b[39;00m \u001b[39mas\u001b[39;00m err:\n\u001b[0;32m--> 355\u001b[0m     \u001b[39mraise\u001b[39;00m JSONDecodeError(\u001b[39m\"\u001b[39m\u001b[39mExpecting value\u001b[39m\u001b[39m\"\u001b[39m, s, err\u001b[39m.\u001b[39mvalue) \u001b[39mfrom\u001b[39;00m \u001b[39mNone\u001b[39;00m\n\u001b[1;32m    356\u001b[0m \u001b[39mreturn\u001b[39;00m obj, end\n",
      "\u001b[0;31mJSONDecodeError\u001b[0m: Expecting value: line 1 column 1 (char 0)",
      "\nDuring handling of the above exception, another exception occurred:\n",
      "\u001b[0;31mJSONDecodeError\u001b[0m                           Traceback (most recent call last)",
      "Cell \u001b[0;32mIn[12], line 4\u001b[0m\n\u001b[1;32m      2\u001b[0m url \u001b[39m=\u001b[39m \u001b[39mf\u001b[39m\u001b[39m'\u001b[39m\u001b[39mhttps://api.census.gov/data/\u001b[39m\u001b[39m{\u001b[39;00myear\u001b[39m}\u001b[39;00m\u001b[39m/acs/acs5?get=NAME,\u001b[39m\u001b[39m{\u001b[39;00mkey\u001b[39m}\u001b[39;00m\u001b[39m&for=block%20group:*&in=state:48%20county:113&key=\u001b[39m\u001b[39m{\u001b[39;00mcensus_api_key\u001b[39m}\u001b[39;00m\u001b[39m'\u001b[39m\n\u001b[1;32m      3\u001b[0m response \u001b[39m=\u001b[39m requests\u001b[39m.\u001b[39mrequest(\u001b[39m\"\u001b[39m\u001b[39mGET\u001b[39m\u001b[39m\"\u001b[39m, url)\n\u001b[0;32m----> 4\u001b[0m pd\u001b[39m.\u001b[39mDataFrame(response\u001b[39m.\u001b[39mjson()[\u001b[39m1\u001b[39m:], columns\u001b[39m=\u001b[39mresponse\u001b[39m.\u001b[39mjson()[\u001b[39m0\u001b[39m])[key]\n",
      "File \u001b[0;32m~/anaconda3/lib/python3.11/site-packages/requests/models.py:975\u001b[0m, in \u001b[0;36mResponse.json\u001b[0;34m(self, **kwargs)\u001b[0m\n\u001b[1;32m    971\u001b[0m     \u001b[39mreturn\u001b[39;00m complexjson\u001b[39m.\u001b[39mloads(\u001b[39mself\u001b[39m\u001b[39m.\u001b[39mtext, \u001b[39m*\u001b[39m\u001b[39m*\u001b[39mkwargs)\n\u001b[1;32m    972\u001b[0m \u001b[39mexcept\u001b[39;00m JSONDecodeError \u001b[39mas\u001b[39;00m e:\n\u001b[1;32m    973\u001b[0m     \u001b[39m# Catch JSON-related errors and raise as requests.JSONDecodeError\u001b[39;00m\n\u001b[1;32m    974\u001b[0m     \u001b[39m# This aliases json.JSONDecodeError and simplejson.JSONDecodeError\u001b[39;00m\n\u001b[0;32m--> 975\u001b[0m     \u001b[39mraise\u001b[39;00m RequestsJSONDecodeError(e\u001b[39m.\u001b[39mmsg, e\u001b[39m.\u001b[39mdoc, e\u001b[39m.\u001b[39mpos)\n",
      "\u001b[0;31mJSONDecodeError\u001b[0m: Expecting value: line 1 column 1 (char 0)"
     ]
    }
   ],
   "source": [
    "key = 'B25081_009E'\n",
    "url = f'https://api.census.gov/data/{year}/acs/acs5?get=NAME,{key}&for=block%20group:*&in=state:48%20county:113&key={census_api_key}'\n",
    "response = requests.request(\"GET\", url)\n",
    "pd.DataFrame(response.json()[1:], columns=response.json()[0])[key]"
   ]
  },
  {
   "cell_type": "code",
   "execution_count": 5,
   "metadata": {},
   "outputs": [
    {
     "data": {
      "text/plain": [
       "0       117300\n",
       "1       122200\n",
       "2       144400\n",
       "3       142500\n",
       "4        19500\n",
       "         ...  \n",
       "1664     75500\n",
       "1665     67800\n",
       "1666     86100\n",
       "1667     79400\n",
       "1668     77600\n",
       "Name: B25077_001E, Length: 1669, dtype: object"
      ]
     },
     "execution_count": 5,
     "metadata": {},
     "output_type": "execute_result"
    }
   ],
   "source": [
    "key = 'B25077_001E'\n",
    "url = f'https://api.census.gov/data/{year}/acs/acs5?get=NAME,{key}&for=block%20group:*&in=state:48%20county:113&key={census_api_key}'\n",
    "response = requests.request(\"GET\", url)\n",
    "pd.DataFrame(response.json()[1:], columns=response.json()[0])[key]"
   ]
  },
  {
   "cell_type": "code",
   "execution_count": 6,
   "metadata": {},
   "outputs": [
    {
     "ename": "JSONDecodeError",
     "evalue": "Expecting value: line 1 column 1 (char 0)",
     "output_type": "error",
     "traceback": [
      "\u001b[0;31m---------------------------------------------------------------------------\u001b[0m",
      "\u001b[0;31mJSONDecodeError\u001b[0m                           Traceback (most recent call last)",
      "File \u001b[0;32m~/anaconda3/lib/python3.11/site-packages/requests/models.py:971\u001b[0m, in \u001b[0;36mResponse.json\u001b[0;34m(self, **kwargs)\u001b[0m\n\u001b[1;32m    970\u001b[0m \u001b[39mtry\u001b[39;00m:\n\u001b[0;32m--> 971\u001b[0m     \u001b[39mreturn\u001b[39;00m complexjson\u001b[39m.\u001b[39mloads(\u001b[39mself\u001b[39m\u001b[39m.\u001b[39mtext, \u001b[39m*\u001b[39m\u001b[39m*\u001b[39mkwargs)\n\u001b[1;32m    972\u001b[0m \u001b[39mexcept\u001b[39;00m JSONDecodeError \u001b[39mas\u001b[39;00m e:\n\u001b[1;32m    973\u001b[0m     \u001b[39m# Catch JSON-related errors and raise as requests.JSONDecodeError\u001b[39;00m\n\u001b[1;32m    974\u001b[0m     \u001b[39m# This aliases json.JSONDecodeError and simplejson.JSONDecodeError\u001b[39;00m\n",
      "File \u001b[0;32m~/anaconda3/lib/python3.11/json/__init__.py:346\u001b[0m, in \u001b[0;36mloads\u001b[0;34m(s, cls, object_hook, parse_float, parse_int, parse_constant, object_pairs_hook, **kw)\u001b[0m\n\u001b[1;32m    343\u001b[0m \u001b[39mif\u001b[39;00m (\u001b[39mcls\u001b[39m \u001b[39mis\u001b[39;00m \u001b[39mNone\u001b[39;00m \u001b[39mand\u001b[39;00m object_hook \u001b[39mis\u001b[39;00m \u001b[39mNone\u001b[39;00m \u001b[39mand\u001b[39;00m\n\u001b[1;32m    344\u001b[0m         parse_int \u001b[39mis\u001b[39;00m \u001b[39mNone\u001b[39;00m \u001b[39mand\u001b[39;00m parse_float \u001b[39mis\u001b[39;00m \u001b[39mNone\u001b[39;00m \u001b[39mand\u001b[39;00m\n\u001b[1;32m    345\u001b[0m         parse_constant \u001b[39mis\u001b[39;00m \u001b[39mNone\u001b[39;00m \u001b[39mand\u001b[39;00m object_pairs_hook \u001b[39mis\u001b[39;00m \u001b[39mNone\u001b[39;00m \u001b[39mand\u001b[39;00m \u001b[39mnot\u001b[39;00m kw):\n\u001b[0;32m--> 346\u001b[0m     \u001b[39mreturn\u001b[39;00m _default_decoder\u001b[39m.\u001b[39mdecode(s)\n\u001b[1;32m    347\u001b[0m \u001b[39mif\u001b[39;00m \u001b[39mcls\u001b[39m \u001b[39mis\u001b[39;00m \u001b[39mNone\u001b[39;00m:\n",
      "File \u001b[0;32m~/anaconda3/lib/python3.11/json/decoder.py:337\u001b[0m, in \u001b[0;36mJSONDecoder.decode\u001b[0;34m(self, s, _w)\u001b[0m\n\u001b[1;32m    333\u001b[0m \u001b[39m\u001b[39m\u001b[39m\"\"\"Return the Python representation of ``s`` (a ``str`` instance\u001b[39;00m\n\u001b[1;32m    334\u001b[0m \u001b[39mcontaining a JSON document).\u001b[39;00m\n\u001b[1;32m    335\u001b[0m \n\u001b[1;32m    336\u001b[0m \u001b[39m\"\"\"\u001b[39;00m\n\u001b[0;32m--> 337\u001b[0m obj, end \u001b[39m=\u001b[39m \u001b[39mself\u001b[39m\u001b[39m.\u001b[39mraw_decode(s, idx\u001b[39m=\u001b[39m_w(s, \u001b[39m0\u001b[39m)\u001b[39m.\u001b[39mend())\n\u001b[1;32m    338\u001b[0m end \u001b[39m=\u001b[39m _w(s, end)\u001b[39m.\u001b[39mend()\n",
      "File \u001b[0;32m~/anaconda3/lib/python3.11/json/decoder.py:355\u001b[0m, in \u001b[0;36mJSONDecoder.raw_decode\u001b[0;34m(self, s, idx)\u001b[0m\n\u001b[1;32m    354\u001b[0m \u001b[39mexcept\u001b[39;00m \u001b[39mStopIteration\u001b[39;00m \u001b[39mas\u001b[39;00m err:\n\u001b[0;32m--> 355\u001b[0m     \u001b[39mraise\u001b[39;00m JSONDecodeError(\u001b[39m\"\u001b[39m\u001b[39mExpecting value\u001b[39m\u001b[39m\"\u001b[39m, s, err\u001b[39m.\u001b[39mvalue) \u001b[39mfrom\u001b[39;00m \u001b[39mNone\u001b[39;00m\n\u001b[1;32m    356\u001b[0m \u001b[39mreturn\u001b[39;00m obj, end\n",
      "\u001b[0;31mJSONDecodeError\u001b[0m: Expecting value: line 1 column 1 (char 0)",
      "\nDuring handling of the above exception, another exception occurred:\n",
      "\u001b[0;31mJSONDecodeError\u001b[0m                           Traceback (most recent call last)",
      "Cell \u001b[0;32mIn[6], line 83\u001b[0m\n\u001b[1;32m      1\u001b[0m var_dict \u001b[39m=\u001b[39m {\n\u001b[1;32m      2\u001b[0m     \u001b[39m# Demographic variables\u001b[39;00m\n\u001b[1;32m      3\u001b[0m     \u001b[39m'\u001b[39m\u001b[39mB01001_001E\u001b[39m\u001b[39m'\u001b[39m:\u001b[39m'\u001b[39m\u001b[39mtotal_population\u001b[39m\u001b[39m'\u001b[39m,\n\u001b[0;32m   (...)\u001b[0m\n\u001b[1;32m     80\u001b[0m     \u001b[39m'\u001b[39m\u001b[39mB25064_001E\u001b[39m\u001b[39m'\u001b[39m:\u001b[39m'\u001b[39m\u001b[39mmedian_gross_rent\u001b[39m\u001b[39m'\u001b[39m, \u001b[39m# contract rent plus monthly cost of utilities\u001b[39;00m\n\u001b[1;32m     81\u001b[0m }\n\u001b[0;32m---> 83\u001b[0m df \u001b[39m=\u001b[39m query_census_api_at_block_group(census_api_key, year, var_dict)\n\u001b[1;32m     85\u001b[0m \u001b[39m# Save dataframe as csv\u001b[39;00m\n\u001b[1;32m     86\u001b[0m df\u001b[39m.\u001b[39mto_csv(\u001b[39m'\u001b[39m\u001b[39mdata/acs_data_5y_2019_revised.csv\u001b[39m\u001b[39m'\u001b[39m, index\u001b[39m=\u001b[39m\u001b[39mFalse\u001b[39;00m)\n",
      "Cell \u001b[0;32mIn[1], line 24\u001b[0m, in \u001b[0;36mquery_census_api_at_block_group\u001b[0;34m(api_key, year, var_dict)\u001b[0m\n\u001b[1;32m     22\u001b[0m     url \u001b[39m=\u001b[39m \u001b[39mf\u001b[39m\u001b[39m'\u001b[39m\u001b[39mhttps://api.census.gov/data/\u001b[39m\u001b[39m{\u001b[39;00myear\u001b[39m}\u001b[39;00m\u001b[39m/acs/acs5?get=NAME,\u001b[39m\u001b[39m{\u001b[39;00mkey\u001b[39m}\u001b[39;00m\u001b[39m&for=block%20group:*&in=state:48%20county:113&key=\u001b[39m\u001b[39m{\u001b[39;00mapi_key\u001b[39m}\u001b[39;00m\u001b[39m'\u001b[39m\n\u001b[1;32m     23\u001b[0m     response \u001b[39m=\u001b[39m requests\u001b[39m.\u001b[39mrequest(\u001b[39m\"\u001b[39m\u001b[39mGET\u001b[39m\u001b[39m\"\u001b[39m, url)\n\u001b[0;32m---> 24\u001b[0m     df[item] \u001b[39m=\u001b[39m pd\u001b[39m.\u001b[39mDataFrame(response\u001b[39m.\u001b[39mjson()[\u001b[39m1\u001b[39m:], columns\u001b[39m=\u001b[39mresponse\u001b[39m.\u001b[39mjson()[\u001b[39m0\u001b[39m])[key]\n\u001b[1;32m     26\u001b[0m \u001b[39mreturn\u001b[39;00m df\n",
      "File \u001b[0;32m~/anaconda3/lib/python3.11/site-packages/requests/models.py:975\u001b[0m, in \u001b[0;36mResponse.json\u001b[0;34m(self, **kwargs)\u001b[0m\n\u001b[1;32m    971\u001b[0m     \u001b[39mreturn\u001b[39;00m complexjson\u001b[39m.\u001b[39mloads(\u001b[39mself\u001b[39m\u001b[39m.\u001b[39mtext, \u001b[39m*\u001b[39m\u001b[39m*\u001b[39mkwargs)\n\u001b[1;32m    972\u001b[0m \u001b[39mexcept\u001b[39;00m JSONDecodeError \u001b[39mas\u001b[39;00m e:\n\u001b[1;32m    973\u001b[0m     \u001b[39m# Catch JSON-related errors and raise as requests.JSONDecodeError\u001b[39;00m\n\u001b[1;32m    974\u001b[0m     \u001b[39m# This aliases json.JSONDecodeError and simplejson.JSONDecodeError\u001b[39;00m\n\u001b[0;32m--> 975\u001b[0m     \u001b[39mraise\u001b[39;00m RequestsJSONDecodeError(e\u001b[39m.\u001b[39mmsg, e\u001b[39m.\u001b[39mdoc, e\u001b[39m.\u001b[39mpos)\n",
      "\u001b[0;31mJSONDecodeError\u001b[0m: Expecting value: line 1 column 1 (char 0)"
     ]
    }
   ],
   "source": [
    "var_dict = {\n",
    "    # Demographic variables\n",
    "    'B01001_001E':'total_population',\n",
    "    'B01001_026E':'female_population',\n",
    "    'B01002_001E':'median_age',\n",
    "    'B02001_002E':'race_white',\n",
    "    'B02001_003E':'race_black',\n",
    "    'B02001_004E':'race_amerindian',\n",
    "    'B02001_005E':'race_asian',\n",
    "    'B03002_012E':'race_hispanic',\n",
    "    'B09002_001E':'hh_w_child_total',\n",
    "    'B09002_009E':'hh_w_child_male_hh_wo_spouse',\n",
    "    'B09002_015E':'hh_w_child_female_hh_wo_spouse',\n",
    "    'B11001_001E':'hh_total',\n",
    "    'B11001_007E':'hh_nonfamily',\n",
    "    'B11001_008E':'hh_living_alone',\n",
    "    'B15003_002E':'edu_att_over25_no_schooling_completed',\n",
    "    'B15003_017E':'edu_att_over25_highschool_graduate',\n",
    "    'B15003_021E':'edu_att_over25_associate_degree',\n",
    "    'B15003_022E':'edu_att_over25_bachelor_degree',\n",
    "    'B15003_023E':'edu_att_over25_master_degree',\n",
    "    'B15003_024E':'edu_att_over25_professional_degree',\n",
    "    'B15003_025E':'edu_att_over25_doctorate_degree',    \n",
    "    \n",
    "    # Built environment variables\n",
    "    'B08303_001E':'time_to_work_total',\n",
    "    'B08303_002E':'time_to_work_lt5',\n",
    "    'B08303_003E':'time_to_work_5to9',\n",
    "    'B08303_004E':'time_to_work_10to14',\n",
    "    'B08303_005E':'time_to_work_15to19',\n",
    "    'B08303_006E':'time_to_work_20to24',\n",
    "    'B08303_007E':'time_to_work_25to29',\n",
    "    'B08303_008E':'time_to_work_30to34',\n",
    "    'B08303_009E':'time_to_work_35to39',\n",
    "    'B08303_010E':'time_to_work_40to44',\n",
    "    'B08303_011E':'time_to_work_45to59',\n",
    "    'B08303_012E':'time_to_work_60to89',\n",
    "    'B08303_013E':'time_to_work_mt90',\n",
    "    'B28002_013E':'no_internet_access',\n",
    "    \n",
    "    # Housing variables\"medrent_samples\"\n",
    "    'B25001_001E':'housing_unit',\n",
    "    'B25002_003E':'housing_vacant',\n",
    "    'B25003_002E':'tenure_owner_occupied',\n",
    "    'B25003_003E':'tenure_renter_occupied',\n",
    "    'B25004_002E':'vacancy_for_rent',\n",
    "    'B25010_003E':'hh_average_size_renter_occupied',\n",
    "    'B25024_002E':'1unit_detached_structure',\n",
    "    'B25024_003E':'1unit_attached_structure',\n",
    "    'B25035_001E':'median_year_built',\n",
    "    'B25070_001E':'gross_rent_percent_hhincome_total',\n",
    "    'B25070_002E':'gross_rent_percent_hhincome_lt10',\n",
    "    'B25070_003E':'gross_rent_percent_hhincome_10to15',\n",
    "    'B25070_004E':'gross_rent_percent_hhincome_15to20',\n",
    "    'B25070_005E':'gross_rent_percent_hhincome_20to25',\n",
    "    'B25070_006E':'gross_rent_percent_hhincome_25to29',\n",
    "    'B25070_007E':'gross_rent_percent_hhincome_30to35',\n",
    "    'B25070_008E':'gross_rent_percent_hhincome_35to39',\n",
    "    'B25070_009E':'gross_rent_percent_hhincome_40to50',\n",
    "    'B25070_010E':'gross_rent_percent_hhincome_50ormore',\n",
    "    'B25070_011E':'gross_rent_percent_hhincome_notcomputed',\n",
    "    'B25071_001E':'gross_rent_percent_hhincome_median',\n",
    "    'B25077_001E':'housing_median_value',\n",
    "    'B25081_001E':'mortgage_status_total',\n",
    "    'B25081_002E':'mortgage_status_w_mortgage',\n",
    "    'B25081_008E':'mortgage_status_wo_mortgage',\n",
    "    B25081_009E\n",
    "    'B25088_001E':'median_monthly_owner_costs',\n",
    "    'B25088_002E':'median_monthly_owner_costs_w_mortgage',\n",
    "    'B25088_003E':'median_monthly_owner_costs_wo_mortgage',\n",
    "\n",
    "    # Economic variables\n",
    "    'B23025_002E':'ind_labor_force',\n",
    "    'B23025_005E':'ind_labor_force_civilian_unemployed',\n",
    "    'B17021_002E':'ind_poverty',\n",
    "    'B19013_001E':'hh_median_income',\n",
    "    'B19056_002E':'hh_w_ssi', #number of households with supplemental security income (SSI)\n",
    "    'B19057_002E':'hh_w_pai', #number of households with public assistance income (PAI)\n",
    "    'B19058_002E':'hh_w_foodstamp_SNAP', #number of households with PAI and Food Stamps / SNAP\n",
    "    'B25058_001E':'median_contract_rent',\n",
    "    'B25064_001E':'median_gross_rent', # contract rent plus monthly cost of utilities\n",
    "}\n",
    "\n",
    "df = query_census_api_at_block_group(census_api_key, year, var_dict)\n",
    "\n",
    "# Save dataframe as csv\n",
    "df.to_csv('data/acs_data_5y_2019_revised.csv', index=False)\n",
    "\n",
    "\n",
    "# Query the change in median gross rent between 2016 and 2021\n",
    "# Set census API key, year, and variable dictionary\n",
    "# year_2016 = '2016'\n",
    "# var_dict_2016 = {'B25064_001E':'median_gross_rent'}\n",
    "# df_2016 = query_census_api_at_block_group(census_api_key, year_2016, var_dict_2016)\n",
    "# df_2016.to_csv('data/acs_data_5y_2016.csv', index=False)"
   ]
  },
  {
   "cell_type": "code",
   "execution_count": 8,
   "metadata": {},
   "outputs": [
    {
     "name": "stdout",
     "output_type": "stream",
     "text": [
      "B01001_001E\n",
      "B01001_026E\n",
      "B01002_001E\n",
      "B02001_002E\n",
      "B02001_003E\n",
      "B02001_004E\n",
      "B02001_005E\n",
      "B03002_012E\n",
      "B09002_001E\n",
      "B09002_009E\n",
      "B09002_015E\n",
      "B11001_001E\n",
      "B11001_007E\n",
      "B11001_008E\n",
      "B15003_002E\n",
      "B15003_017E\n",
      "B15003_021E\n",
      "B15003_022E\n",
      "B15003_023E\n",
      "B15003_024E\n",
      "B15003_025E\n",
      "B08303_001E\n",
      "B08303_002E\n",
      "B08303_003E\n",
      "B08303_004E\n",
      "B08303_005E\n",
      "B08303_006E\n",
      "B08303_007E\n",
      "B08303_008E\n",
      "B08303_009E\n",
      "B08303_010E\n",
      "B08303_011E\n",
      "B08303_012E\n",
      "B08303_013E\n",
      "B28002_013E\n",
      "B25001_001E\n",
      "B25002_003E\n",
      "B25003_002E\n",
      "B25003_003E\n",
      "B25004_002E\n",
      "B25010_003E\n",
      "B25024_002E\n",
      "B25024_003E\n",
      "B25035_001E\n",
      "B25070_001E\n",
      "B25070_002E\n",
      "B25070_003E\n",
      "B25070_004E\n",
      "B25070_005E\n",
      "B25070_006E\n",
      "B25070_007E\n",
      "B25070_008E\n",
      "B25070_009E\n",
      "B25070_010E\n",
      "B25070_011E\n",
      "B25071_001E\n",
      "B25077_001E\n",
      "B25081_001E\n",
      "B25081_002E\n",
      "B25081_009E\n",
      "B25088_001E\n",
      "B25088_002E\n",
      "B25088_003E\n",
      "B23025_002E\n",
      "B23025_005E\n",
      "B17021_002E\n",
      "B19013_001E\n",
      "B19056_002E\n",
      "B19057_002E\n",
      "B19058_002E\n",
      "B25058_001E\n",
      "B25064_001E\n"
     ]
    }
   ],
   "source": [
    "for key in var_dict:\n",
    "    print(key)"
   ]
  },
  {
   "cell_type": "code",
   "execution_count": 11,
   "metadata": {},
   "outputs": [
    {
     "name": "stderr",
     "output_type": "stream",
     "text": [
      "  0%|          | 0/72 [00:00<?, ?it/s]"
     ]
    },
    {
     "name": "stdout",
     "output_type": "stream",
     "text": [
      "B01001_001E\n"
     ]
    },
    {
     "name": "stderr",
     "output_type": "stream",
     "text": [
      "  1%|▏         | 1/72 [00:01<01:39,  1.40s/it]"
     ]
    },
    {
     "name": "stdout",
     "output_type": "stream",
     "text": [
      "B01001_026E\n"
     ]
    },
    {
     "name": "stderr",
     "output_type": "stream",
     "text": [
      "  3%|▎         | 2/72 [00:02<01:31,  1.30s/it]"
     ]
    },
    {
     "name": "stdout",
     "output_type": "stream",
     "text": [
      "B01002_001E\n"
     ]
    },
    {
     "name": "stderr",
     "output_type": "stream",
     "text": [
      "  4%|▍         | 3/72 [00:03<01:25,  1.23s/it]"
     ]
    },
    {
     "name": "stdout",
     "output_type": "stream",
     "text": [
      "B02001_002E\n"
     ]
    },
    {
     "name": "stderr",
     "output_type": "stream",
     "text": [
      "  6%|▌         | 4/72 [00:04<01:16,  1.12s/it]"
     ]
    },
    {
     "name": "stdout",
     "output_type": "stream",
     "text": [
      "B02001_003E\n"
     ]
    },
    {
     "name": "stderr",
     "output_type": "stream",
     "text": [
      "  7%|▋         | 5/72 [00:05<01:13,  1.10s/it]"
     ]
    },
    {
     "name": "stdout",
     "output_type": "stream",
     "text": [
      "B02001_004E\n"
     ]
    },
    {
     "name": "stderr",
     "output_type": "stream",
     "text": [
      "  8%|▊         | 6/72 [00:06<01:09,  1.06s/it]"
     ]
    },
    {
     "name": "stdout",
     "output_type": "stream",
     "text": [
      "B02001_005E\n"
     ]
    },
    {
     "name": "stderr",
     "output_type": "stream",
     "text": [
      " 10%|▉         | 7/72 [00:07<01:06,  1.02s/it]"
     ]
    },
    {
     "name": "stdout",
     "output_type": "stream",
     "text": [
      "B03002_012E\n"
     ]
    },
    {
     "name": "stderr",
     "output_type": "stream",
     "text": [
      " 11%|█         | 8/72 [00:08<01:03,  1.00it/s]"
     ]
    },
    {
     "name": "stdout",
     "output_type": "stream",
     "text": [
      "B09002_001E\n"
     ]
    },
    {
     "name": "stderr",
     "output_type": "stream",
     "text": [
      " 12%|█▎        | 9/72 [00:11<01:34,  1.50s/it]"
     ]
    },
    {
     "name": "stdout",
     "output_type": "stream",
     "text": [
      "B09002_009E\n"
     ]
    },
    {
     "name": "stderr",
     "output_type": "stream",
     "text": [
      " 14%|█▍        | 10/72 [00:12<01:35,  1.54s/it]"
     ]
    },
    {
     "name": "stdout",
     "output_type": "stream",
     "text": [
      "B09002_015E\n"
     ]
    },
    {
     "name": "stderr",
     "output_type": "stream",
     "text": [
      " 15%|█▌        | 11/72 [00:13<01:24,  1.39s/it]"
     ]
    },
    {
     "name": "stdout",
     "output_type": "stream",
     "text": [
      "B11001_001E\n"
     ]
    },
    {
     "name": "stderr",
     "output_type": "stream",
     "text": [
      " 17%|█▋        | 12/72 [00:15<01:23,  1.39s/it]"
     ]
    },
    {
     "name": "stdout",
     "output_type": "stream",
     "text": [
      "B11001_007E\n"
     ]
    },
    {
     "name": "stderr",
     "output_type": "stream",
     "text": [
      " 18%|█▊        | 13/72 [00:16<01:16,  1.30s/it]"
     ]
    },
    {
     "name": "stdout",
     "output_type": "stream",
     "text": [
      "B11001_008E\n"
     ]
    },
    {
     "name": "stderr",
     "output_type": "stream",
     "text": [
      " 19%|█▉        | 14/72 [00:17<01:11,  1.23s/it]"
     ]
    },
    {
     "name": "stdout",
     "output_type": "stream",
     "text": [
      "B15003_002E\n"
     ]
    },
    {
     "name": "stderr",
     "output_type": "stream",
     "text": [
      " 21%|██        | 15/72 [00:18<01:11,  1.26s/it]"
     ]
    },
    {
     "name": "stdout",
     "output_type": "stream",
     "text": [
      "B15003_017E\n"
     ]
    },
    {
     "name": "stderr",
     "output_type": "stream",
     "text": [
      " 22%|██▏       | 16/72 [00:19<01:08,  1.22s/it]"
     ]
    },
    {
     "name": "stdout",
     "output_type": "stream",
     "text": [
      "B15003_021E\n"
     ]
    },
    {
     "name": "stderr",
     "output_type": "stream",
     "text": [
      " 24%|██▎       | 17/72 [00:21<01:05,  1.19s/it]"
     ]
    },
    {
     "name": "stdout",
     "output_type": "stream",
     "text": [
      "B15003_022E\n"
     ]
    },
    {
     "name": "stderr",
     "output_type": "stream",
     "text": [
      " 25%|██▌       | 18/72 [00:22<01:01,  1.14s/it]"
     ]
    },
    {
     "name": "stdout",
     "output_type": "stream",
     "text": [
      "B15003_023E\n"
     ]
    },
    {
     "name": "stderr",
     "output_type": "stream",
     "text": [
      " 26%|██▋       | 19/72 [00:23<00:57,  1.09s/it]"
     ]
    },
    {
     "name": "stdout",
     "output_type": "stream",
     "text": [
      "B15003_024E\n"
     ]
    },
    {
     "name": "stderr",
     "output_type": "stream",
     "text": [
      " 28%|██▊       | 20/72 [00:24<00:55,  1.06s/it]"
     ]
    },
    {
     "name": "stdout",
     "output_type": "stream",
     "text": [
      "B15003_025E\n"
     ]
    },
    {
     "name": "stderr",
     "output_type": "stream",
     "text": [
      " 29%|██▉       | 21/72 [00:25<00:54,  1.07s/it]"
     ]
    },
    {
     "name": "stdout",
     "output_type": "stream",
     "text": [
      "B08303_001E\n"
     ]
    },
    {
     "name": "stderr",
     "output_type": "stream",
     "text": [
      " 31%|███       | 22/72 [00:26<00:54,  1.09s/it]"
     ]
    },
    {
     "name": "stdout",
     "output_type": "stream",
     "text": [
      "B08303_002E\n"
     ]
    },
    {
     "name": "stderr",
     "output_type": "stream",
     "text": [
      " 32%|███▏      | 23/72 [00:27<00:52,  1.07s/it]"
     ]
    },
    {
     "name": "stdout",
     "output_type": "stream",
     "text": [
      "B08303_003E\n"
     ]
    },
    {
     "name": "stderr",
     "output_type": "stream",
     "text": [
      " 33%|███▎      | 24/72 [00:28<00:51,  1.07s/it]"
     ]
    },
    {
     "name": "stdout",
     "output_type": "stream",
     "text": [
      "B08303_004E\n"
     ]
    },
    {
     "name": "stderr",
     "output_type": "stream",
     "text": [
      " 35%|███▍      | 25/72 [00:29<00:50,  1.07s/it]"
     ]
    },
    {
     "name": "stdout",
     "output_type": "stream",
     "text": [
      "B08303_005E\n"
     ]
    },
    {
     "name": "stderr",
     "output_type": "stream",
     "text": [
      " 36%|███▌      | 26/72 [00:32<01:18,  1.70s/it]"
     ]
    },
    {
     "name": "stdout",
     "output_type": "stream",
     "text": [
      "B08303_006E\n"
     ]
    },
    {
     "name": "stderr",
     "output_type": "stream",
     "text": [
      " 38%|███▊      | 27/72 [00:33<01:08,  1.52s/it]"
     ]
    },
    {
     "name": "stdout",
     "output_type": "stream",
     "text": [
      "B08303_007E\n"
     ]
    },
    {
     "name": "stderr",
     "output_type": "stream",
     "text": [
      " 39%|███▉      | 28/72 [00:34<01:00,  1.37s/it]"
     ]
    },
    {
     "name": "stdout",
     "output_type": "stream",
     "text": [
      "B08303_008E\n"
     ]
    },
    {
     "name": "stderr",
     "output_type": "stream",
     "text": [
      " 40%|████      | 29/72 [00:36<00:57,  1.34s/it]"
     ]
    },
    {
     "name": "stdout",
     "output_type": "stream",
     "text": [
      "B08303_009E\n"
     ]
    },
    {
     "name": "stderr",
     "output_type": "stream",
     "text": [
      " 42%|████▏     | 30/72 [00:37<00:54,  1.31s/it]"
     ]
    },
    {
     "name": "stdout",
     "output_type": "stream",
     "text": [
      "B08303_010E\n"
     ]
    },
    {
     "name": "stderr",
     "output_type": "stream",
     "text": [
      " 43%|████▎     | 31/72 [00:38<00:50,  1.23s/it]"
     ]
    },
    {
     "name": "stdout",
     "output_type": "stream",
     "text": [
      "B08303_011E\n"
     ]
    },
    {
     "name": "stderr",
     "output_type": "stream",
     "text": [
      " 44%|████▍     | 32/72 [00:39<00:45,  1.15s/it]"
     ]
    },
    {
     "name": "stdout",
     "output_type": "stream",
     "text": [
      "B08303_012E\n"
     ]
    },
    {
     "name": "stderr",
     "output_type": "stream",
     "text": [
      " 46%|████▌     | 33/72 [00:40<00:43,  1.12s/it]"
     ]
    },
    {
     "name": "stdout",
     "output_type": "stream",
     "text": [
      "B08303_013E\n"
     ]
    },
    {
     "name": "stderr",
     "output_type": "stream",
     "text": [
      " 47%|████▋     | 34/72 [00:41<00:42,  1.12s/it]"
     ]
    },
    {
     "name": "stdout",
     "output_type": "stream",
     "text": [
      "B28002_013E\n"
     ]
    },
    {
     "name": "stderr",
     "output_type": "stream",
     "text": [
      " 49%|████▊     | 35/72 [00:42<00:41,  1.13s/it]"
     ]
    },
    {
     "name": "stdout",
     "output_type": "stream",
     "text": [
      "B25001_001E\n"
     ]
    },
    {
     "name": "stderr",
     "output_type": "stream",
     "text": [
      " 50%|█████     | 36/72 [00:43<00:39,  1.10s/it]"
     ]
    },
    {
     "name": "stdout",
     "output_type": "stream",
     "text": [
      "B25002_003E\n"
     ]
    },
    {
     "name": "stderr",
     "output_type": "stream",
     "text": [
      " 51%|█████▏    | 37/72 [00:44<00:37,  1.07s/it]"
     ]
    },
    {
     "name": "stdout",
     "output_type": "stream",
     "text": [
      "B25003_002E\n"
     ]
    },
    {
     "name": "stderr",
     "output_type": "stream",
     "text": [
      " 53%|█████▎    | 38/72 [00:45<00:35,  1.05s/it]"
     ]
    },
    {
     "name": "stdout",
     "output_type": "stream",
     "text": [
      "B25003_003E\n"
     ]
    },
    {
     "name": "stderr",
     "output_type": "stream",
     "text": [
      " 54%|█████▍    | 39/72 [00:46<00:34,  1.05s/it]"
     ]
    },
    {
     "name": "stdout",
     "output_type": "stream",
     "text": [
      "B25004_002E\n"
     ]
    },
    {
     "name": "stderr",
     "output_type": "stream",
     "text": [
      " 56%|█████▌    | 40/72 [00:48<00:41,  1.30s/it]"
     ]
    },
    {
     "name": "stdout",
     "output_type": "stream",
     "text": [
      "B25010_003E\n"
     ]
    },
    {
     "name": "stderr",
     "output_type": "stream",
     "text": [
      " 57%|█████▋    | 41/72 [00:49<00:38,  1.24s/it]"
     ]
    },
    {
     "name": "stdout",
     "output_type": "stream",
     "text": [
      "B25024_002E\n"
     ]
    },
    {
     "name": "stderr",
     "output_type": "stream",
     "text": [
      " 58%|█████▊    | 42/72 [00:50<00:37,  1.27s/it]"
     ]
    },
    {
     "name": "stdout",
     "output_type": "stream",
     "text": [
      "B25024_003E\n"
     ]
    },
    {
     "name": "stderr",
     "output_type": "stream",
     "text": [
      " 60%|█████▉    | 43/72 [00:52<00:35,  1.22s/it]"
     ]
    },
    {
     "name": "stdout",
     "output_type": "stream",
     "text": [
      "B25035_001E\n"
     ]
    },
    {
     "name": "stderr",
     "output_type": "stream",
     "text": [
      " 61%|██████    | 44/72 [00:53<00:32,  1.17s/it]"
     ]
    },
    {
     "name": "stdout",
     "output_type": "stream",
     "text": [
      "B25070_001E\n"
     ]
    },
    {
     "name": "stderr",
     "output_type": "stream",
     "text": [
      " 62%|██████▎   | 45/72 [00:54<00:33,  1.23s/it]"
     ]
    },
    {
     "name": "stdout",
     "output_type": "stream",
     "text": [
      "B25070_002E\n"
     ]
    },
    {
     "name": "stderr",
     "output_type": "stream",
     "text": [
      " 64%|██████▍   | 46/72 [00:55<00:30,  1.17s/it]"
     ]
    },
    {
     "name": "stdout",
     "output_type": "stream",
     "text": [
      "B25070_003E\n"
     ]
    },
    {
     "name": "stderr",
     "output_type": "stream",
     "text": [
      " 65%|██████▌   | 47/72 [00:56<00:29,  1.19s/it]"
     ]
    },
    {
     "name": "stdout",
     "output_type": "stream",
     "text": [
      "B25070_004E\n"
     ]
    },
    {
     "name": "stderr",
     "output_type": "stream",
     "text": [
      " 67%|██████▋   | 48/72 [00:57<00:27,  1.15s/it]"
     ]
    },
    {
     "name": "stdout",
     "output_type": "stream",
     "text": [
      "B25070_005E\n"
     ]
    },
    {
     "name": "stderr",
     "output_type": "stream",
     "text": [
      " 68%|██████▊   | 49/72 [00:58<00:24,  1.08s/it]"
     ]
    },
    {
     "name": "stdout",
     "output_type": "stream",
     "text": [
      "B25070_006E\n"
     ]
    },
    {
     "name": "stderr",
     "output_type": "stream",
     "text": [
      " 69%|██████▉   | 50/72 [00:59<00:23,  1.06s/it]"
     ]
    },
    {
     "name": "stdout",
     "output_type": "stream",
     "text": [
      "B25070_007E\n"
     ]
    },
    {
     "name": "stderr",
     "output_type": "stream",
     "text": [
      " 71%|███████   | 51/72 [01:00<00:21,  1.05s/it]"
     ]
    },
    {
     "name": "stdout",
     "output_type": "stream",
     "text": [
      "B25070_008E\n"
     ]
    },
    {
     "name": "stderr",
     "output_type": "stream",
     "text": [
      " 72%|███████▏  | 52/72 [01:01<00:21,  1.08s/it]"
     ]
    },
    {
     "name": "stdout",
     "output_type": "stream",
     "text": [
      "B25070_009E\n"
     ]
    },
    {
     "name": "stderr",
     "output_type": "stream",
     "text": [
      " 74%|███████▎  | 53/72 [01:02<00:20,  1.06s/it]"
     ]
    },
    {
     "name": "stdout",
     "output_type": "stream",
     "text": [
      "B25070_010E\n"
     ]
    },
    {
     "name": "stderr",
     "output_type": "stream",
     "text": [
      " 75%|███████▌  | 54/72 [01:03<00:18,  1.05s/it]"
     ]
    },
    {
     "name": "stdout",
     "output_type": "stream",
     "text": [
      "B25070_011E\n"
     ]
    },
    {
     "name": "stderr",
     "output_type": "stream",
     "text": [
      " 76%|███████▋  | 55/72 [01:05<00:18,  1.09s/it]"
     ]
    },
    {
     "name": "stdout",
     "output_type": "stream",
     "text": [
      "B25071_001E\n"
     ]
    },
    {
     "name": "stderr",
     "output_type": "stream",
     "text": [
      " 78%|███████▊  | 56/72 [01:06<00:18,  1.13s/it]"
     ]
    },
    {
     "name": "stdout",
     "output_type": "stream",
     "text": [
      "B25077_001E\n"
     ]
    },
    {
     "name": "stderr",
     "output_type": "stream",
     "text": [
      " 79%|███████▉  | 57/72 [01:07<00:17,  1.20s/it]"
     ]
    },
    {
     "name": "stdout",
     "output_type": "stream",
     "text": [
      "B25081_001E\n"
     ]
    },
    {
     "name": "stderr",
     "output_type": "stream",
     "text": [
      " 81%|████████  | 58/72 [01:08<00:16,  1.16s/it]"
     ]
    },
    {
     "name": "stdout",
     "output_type": "stream",
     "text": [
      "B25081_002E\n"
     ]
    },
    {
     "name": "stderr",
     "output_type": "stream",
     "text": [
      " 82%|████████▏ | 59/72 [01:09<00:15,  1.16s/it]"
     ]
    },
    {
     "name": "stdout",
     "output_type": "stream",
     "text": [
      "B25081_009E\n"
     ]
    },
    {
     "name": "stderr",
     "output_type": "stream",
     "text": [
      " 82%|████████▏ | 59/72 [01:10<00:15,  1.19s/it]\n"
     ]
    },
    {
     "ename": "JSONDecodeError",
     "evalue": "Expecting value: line 1 column 1 (char 0)",
     "output_type": "error",
     "traceback": [
      "\u001b[0;31m---------------------------------------------------------------------------\u001b[0m",
      "\u001b[0;31mJSONDecodeError\u001b[0m                           Traceback (most recent call last)",
      "File \u001b[0;32m~/anaconda3/lib/python3.11/site-packages/requests/models.py:971\u001b[0m, in \u001b[0;36mResponse.json\u001b[0;34m(self, **kwargs)\u001b[0m\n\u001b[1;32m    970\u001b[0m \u001b[39mtry\u001b[39;00m:\n\u001b[0;32m--> 971\u001b[0m     \u001b[39mreturn\u001b[39;00m complexjson\u001b[39m.\u001b[39mloads(\u001b[39mself\u001b[39m\u001b[39m.\u001b[39mtext, \u001b[39m*\u001b[39m\u001b[39m*\u001b[39mkwargs)\n\u001b[1;32m    972\u001b[0m \u001b[39mexcept\u001b[39;00m JSONDecodeError \u001b[39mas\u001b[39;00m e:\n\u001b[1;32m    973\u001b[0m     \u001b[39m# Catch JSON-related errors and raise as requests.JSONDecodeError\u001b[39;00m\n\u001b[1;32m    974\u001b[0m     \u001b[39m# This aliases json.JSONDecodeError and simplejson.JSONDecodeError\u001b[39;00m\n",
      "File \u001b[0;32m~/anaconda3/lib/python3.11/json/__init__.py:346\u001b[0m, in \u001b[0;36mloads\u001b[0;34m(s, cls, object_hook, parse_float, parse_int, parse_constant, object_pairs_hook, **kw)\u001b[0m\n\u001b[1;32m    343\u001b[0m \u001b[39mif\u001b[39;00m (\u001b[39mcls\u001b[39m \u001b[39mis\u001b[39;00m \u001b[39mNone\u001b[39;00m \u001b[39mand\u001b[39;00m object_hook \u001b[39mis\u001b[39;00m \u001b[39mNone\u001b[39;00m \u001b[39mand\u001b[39;00m\n\u001b[1;32m    344\u001b[0m         parse_int \u001b[39mis\u001b[39;00m \u001b[39mNone\u001b[39;00m \u001b[39mand\u001b[39;00m parse_float \u001b[39mis\u001b[39;00m \u001b[39mNone\u001b[39;00m \u001b[39mand\u001b[39;00m\n\u001b[1;32m    345\u001b[0m         parse_constant \u001b[39mis\u001b[39;00m \u001b[39mNone\u001b[39;00m \u001b[39mand\u001b[39;00m object_pairs_hook \u001b[39mis\u001b[39;00m \u001b[39mNone\u001b[39;00m \u001b[39mand\u001b[39;00m \u001b[39mnot\u001b[39;00m kw):\n\u001b[0;32m--> 346\u001b[0m     \u001b[39mreturn\u001b[39;00m _default_decoder\u001b[39m.\u001b[39mdecode(s)\n\u001b[1;32m    347\u001b[0m \u001b[39mif\u001b[39;00m \u001b[39mcls\u001b[39m \u001b[39mis\u001b[39;00m \u001b[39mNone\u001b[39;00m:\n",
      "File \u001b[0;32m~/anaconda3/lib/python3.11/json/decoder.py:337\u001b[0m, in \u001b[0;36mJSONDecoder.decode\u001b[0;34m(self, s, _w)\u001b[0m\n\u001b[1;32m    333\u001b[0m \u001b[39m\u001b[39m\u001b[39m\"\"\"Return the Python representation of ``s`` (a ``str`` instance\u001b[39;00m\n\u001b[1;32m    334\u001b[0m \u001b[39mcontaining a JSON document).\u001b[39;00m\n\u001b[1;32m    335\u001b[0m \n\u001b[1;32m    336\u001b[0m \u001b[39m\"\"\"\u001b[39;00m\n\u001b[0;32m--> 337\u001b[0m obj, end \u001b[39m=\u001b[39m \u001b[39mself\u001b[39m\u001b[39m.\u001b[39mraw_decode(s, idx\u001b[39m=\u001b[39m_w(s, \u001b[39m0\u001b[39m)\u001b[39m.\u001b[39mend())\n\u001b[1;32m    338\u001b[0m end \u001b[39m=\u001b[39m _w(s, end)\u001b[39m.\u001b[39mend()\n",
      "File \u001b[0;32m~/anaconda3/lib/python3.11/json/decoder.py:355\u001b[0m, in \u001b[0;36mJSONDecoder.raw_decode\u001b[0;34m(self, s, idx)\u001b[0m\n\u001b[1;32m    354\u001b[0m \u001b[39mexcept\u001b[39;00m \u001b[39mStopIteration\u001b[39;00m \u001b[39mas\u001b[39;00m err:\n\u001b[0;32m--> 355\u001b[0m     \u001b[39mraise\u001b[39;00m JSONDecodeError(\u001b[39m\"\u001b[39m\u001b[39mExpecting value\u001b[39m\u001b[39m\"\u001b[39m, s, err\u001b[39m.\u001b[39mvalue) \u001b[39mfrom\u001b[39;00m \u001b[39mNone\u001b[39;00m\n\u001b[1;32m    356\u001b[0m \u001b[39mreturn\u001b[39;00m obj, end\n",
      "\u001b[0;31mJSONDecodeError\u001b[0m: Expecting value: line 1 column 1 (char 0)",
      "\nDuring handling of the above exception, another exception occurred:\n",
      "\u001b[0;31mJSONDecodeError\u001b[0m                           Traceback (most recent call last)",
      "Cell \u001b[0;32mIn[11], line 7\u001b[0m\n\u001b[1;32m      5\u001b[0m url \u001b[39m=\u001b[39m \u001b[39mf\u001b[39m\u001b[39m'\u001b[39m\u001b[39mhttps://api.census.gov/data/\u001b[39m\u001b[39m{\u001b[39;00myear\u001b[39m}\u001b[39;00m\u001b[39m/acs/acs5?get=NAME,\u001b[39m\u001b[39m{\u001b[39;00mkey\u001b[39m}\u001b[39;00m\u001b[39m&for=block%20group:*&in=state:48%20county:113&key=\u001b[39m\u001b[39m{\u001b[39;00mcensus_api_key\u001b[39m}\u001b[39;00m\u001b[39m'\u001b[39m\n\u001b[1;32m      6\u001b[0m response \u001b[39m=\u001b[39m requests\u001b[39m.\u001b[39mrequest(\u001b[39m\"\u001b[39m\u001b[39mGET\u001b[39m\u001b[39m\"\u001b[39m, url)\n\u001b[0;32m----> 7\u001b[0m pd\u001b[39m.\u001b[39mDataFrame(response\u001b[39m.\u001b[39mjson()[\u001b[39m1\u001b[39m:], columns\u001b[39m=\u001b[39mresponse\u001b[39m.\u001b[39mjson()[\u001b[39m0\u001b[39m])[key]\n",
      "File \u001b[0;32m~/anaconda3/lib/python3.11/site-packages/requests/models.py:975\u001b[0m, in \u001b[0;36mResponse.json\u001b[0;34m(self, **kwargs)\u001b[0m\n\u001b[1;32m    971\u001b[0m     \u001b[39mreturn\u001b[39;00m complexjson\u001b[39m.\u001b[39mloads(\u001b[39mself\u001b[39m\u001b[39m.\u001b[39mtext, \u001b[39m*\u001b[39m\u001b[39m*\u001b[39mkwargs)\n\u001b[1;32m    972\u001b[0m \u001b[39mexcept\u001b[39;00m JSONDecodeError \u001b[39mas\u001b[39;00m e:\n\u001b[1;32m    973\u001b[0m     \u001b[39m# Catch JSON-related errors and raise as requests.JSONDecodeError\u001b[39;00m\n\u001b[1;32m    974\u001b[0m     \u001b[39m# This aliases json.JSONDecodeError and simplejson.JSONDecodeError\u001b[39;00m\n\u001b[0;32m--> 975\u001b[0m     \u001b[39mraise\u001b[39;00m RequestsJSONDecodeError(e\u001b[39m.\u001b[39mmsg, e\u001b[39m.\u001b[39mdoc, e\u001b[39m.\u001b[39mpos)\n",
      "\u001b[0;31mJSONDecodeError\u001b[0m: Expecting value: line 1 column 1 (char 0)"
     ]
    }
   ],
   "source": [
    "from tqdm import tqdm\n",
    "year = 2019\n",
    "for key in tqdm(var_dict):\n",
    "    print(key)\n",
    "    url = f'https://api.census.gov/data/{year}/acs/acs5?get=NAME,{key}&for=block%20group:*&in=state:48%20county:113&key={census_api_key}'\n",
    "    response = requests.request(\"GET\", url)\n",
    "    pd.DataFrame(response.json()[1:], columns=response.json()[0])[key]"
   ]
  },
  {
   "cell_type": "code",
   "execution_count": 22,
   "metadata": {},
   "outputs": [],
   "source": [
    "# Read census tract relationship file between 2010 and 2020\n",
    "file_path = 'https://www2.census.gov/geo/docs/maps-data/data/rel2020/tract/tab20_tract20_tract10_natl.txt'\n",
    "df_tract_rel = pd.read_csv(file_path, sep='|')\n",
    "\n",
    "# Select only Dallas County, Texas\n",
    "df_tract_rel['GEOID_TRACT_20'] = df_tract_rel['GEOID_TRACT_20'].astype(str)\n",
    "df_tract_rel['GEOID_TRACT_10'] = df_tract_rel['GEOID_TRACT_10'].astype(str)\n",
    "df_tract_rel = df_tract_rel[df_tract_rel['GEOID_TRACT_20'].str.startswith('48113')]\n"
   ]
  },
  {
   "cell_type": "code",
   "execution_count": 23,
   "metadata": {},
   "outputs": [
    {
     "data": {
      "text/html": [
       "<div>\n",
       "<style scoped>\n",
       "    .dataframe tbody tr th:only-of-type {\n",
       "        vertical-align: middle;\n",
       "    }\n",
       "\n",
       "    .dataframe tbody tr th {\n",
       "        vertical-align: top;\n",
       "    }\n",
       "\n",
       "    .dataframe thead th {\n",
       "        text-align: right;\n",
       "    }\n",
       "</style>\n",
       "<table border=\"1\" class=\"dataframe\">\n",
       "  <thead>\n",
       "    <tr style=\"text-align: right;\">\n",
       "      <th></th>\n",
       "      <th>OID_TRACT_20</th>\n",
       "      <th>GEOID_TRACT_20</th>\n",
       "      <th>NAMELSAD_TRACT_20</th>\n",
       "      <th>AREALAND_TRACT_20</th>\n",
       "      <th>AREAWATER_TRACT_20</th>\n",
       "      <th>MTFCC_TRACT_20</th>\n",
       "      <th>FUNCSTAT_TRACT_20</th>\n",
       "      <th>OID_TRACT_10</th>\n",
       "      <th>GEOID_TRACT_10</th>\n",
       "      <th>NAMELSAD_TRACT_10</th>\n",
       "      <th>AREALAND_TRACT_10</th>\n",
       "      <th>AREAWATER_TRACT_10</th>\n",
       "      <th>MTFCC_TRACT_10</th>\n",
       "      <th>FUNCSTAT_TRACT_10</th>\n",
       "      <th>AREALAND_PART</th>\n",
       "      <th>AREAWATER_PART</th>\n",
       "    </tr>\n",
       "  </thead>\n",
       "  <tbody>\n",
       "    <tr>\n",
       "      <th>105024</th>\n",
       "      <td>20790555940585</td>\n",
       "      <td>48113000100</td>\n",
       "      <td>Census Tract 1</td>\n",
       "      <td>3077392</td>\n",
       "      <td>511268</td>\n",
       "      <td>G5020</td>\n",
       "      <td>S</td>\n",
       "      <td>20740555940585</td>\n",
       "      <td>48113000100</td>\n",
       "      <td>Census Tract 1</td>\n",
       "      <td>3064914</td>\n",
       "      <td>511268</td>\n",
       "      <td>G5020</td>\n",
       "      <td>S</td>\n",
       "      <td>3064269</td>\n",
       "      <td>511268</td>\n",
       "    </tr>\n",
       "    <tr>\n",
       "      <th>105025</th>\n",
       "      <td>20790555940585</td>\n",
       "      <td>48113000100</td>\n",
       "      <td>Census Tract 1</td>\n",
       "      <td>3077392</td>\n",
       "      <td>511268</td>\n",
       "      <td>G5020</td>\n",
       "      <td>S</td>\n",
       "      <td>20740555940601</td>\n",
       "      <td>48113001202</td>\n",
       "      <td>Census Tract 12.02</td>\n",
       "      <td>3208547</td>\n",
       "      <td>0</td>\n",
       "      <td>G5020</td>\n",
       "      <td>S</td>\n",
       "      <td>4325</td>\n",
       "      <td>0</td>\n",
       "    </tr>\n",
       "    <tr>\n",
       "      <th>105026</th>\n",
       "      <td>20790555940585</td>\n",
       "      <td>48113000100</td>\n",
       "      <td>Census Tract 1</td>\n",
       "      <td>3077392</td>\n",
       "      <td>511268</td>\n",
       "      <td>G5020</td>\n",
       "      <td>S</td>\n",
       "      <td>20740555940653</td>\n",
       "      <td>48113008100</td>\n",
       "      <td>Census Tract 81</td>\n",
       "      <td>5349487</td>\n",
       "      <td>792325</td>\n",
       "      <td>G5020</td>\n",
       "      <td>S</td>\n",
       "      <td>8798</td>\n",
       "      <td>0</td>\n",
       "    </tr>\n",
       "    <tr>\n",
       "      <th>105027</th>\n",
       "      <td>20790555940586</td>\n",
       "      <td>48113000201</td>\n",
       "      <td>Census Tract 2.01</td>\n",
       "      <td>1762502</td>\n",
       "      <td>0</td>\n",
       "      <td>G5020</td>\n",
       "      <td>S</td>\n",
       "      <td>20740555940586</td>\n",
       "      <td>48113000201</td>\n",
       "      <td>Census Tract 2.01</td>\n",
       "      <td>1762502</td>\n",
       "      <td>0</td>\n",
       "      <td>G5020</td>\n",
       "      <td>S</td>\n",
       "      <td>1762502</td>\n",
       "      <td>0</td>\n",
       "    </tr>\n",
       "    <tr>\n",
       "      <th>105028</th>\n",
       "      <td>20790555940588</td>\n",
       "      <td>48113000202</td>\n",
       "      <td>Census Tract 2.02</td>\n",
       "      <td>1571509</td>\n",
       "      <td>30513</td>\n",
       "      <td>G5020</td>\n",
       "      <td>S</td>\n",
       "      <td>20740555940588</td>\n",
       "      <td>48113000202</td>\n",
       "      <td>Census Tract 2.02</td>\n",
       "      <td>1571509</td>\n",
       "      <td>30513</td>\n",
       "      <td>G5020</td>\n",
       "      <td>S</td>\n",
       "      <td>1571509</td>\n",
       "      <td>30513</td>\n",
       "    </tr>\n",
       "    <tr>\n",
       "      <th>...</th>\n",
       "      <td>...</td>\n",
       "      <td>...</td>\n",
       "      <td>...</td>\n",
       "      <td>...</td>\n",
       "      <td>...</td>\n",
       "      <td>...</td>\n",
       "      <td>...</td>\n",
       "      <td>...</td>\n",
       "      <td>...</td>\n",
       "      <td>...</td>\n",
       "      <td>...</td>\n",
       "      <td>...</td>\n",
       "      <td>...</td>\n",
       "      <td>...</td>\n",
       "      <td>...</td>\n",
       "      <td>...</td>\n",
       "    </tr>\n",
       "    <tr>\n",
       "      <th>105949</th>\n",
       "      <td>2079015922093404</td>\n",
       "      <td>48113021200</td>\n",
       "      <td>Census Tract 212</td>\n",
       "      <td>18522258</td>\n",
       "      <td>2824814</td>\n",
       "      <td>G5020</td>\n",
       "      <td>S</td>\n",
       "      <td>20740555945159</td>\n",
       "      <td>48113015800</td>\n",
       "      <td>Census Tract 158</td>\n",
       "      <td>13182509</td>\n",
       "      <td>624991</td>\n",
       "      <td>G5020</td>\n",
       "      <td>S</td>\n",
       "      <td>13182509</td>\n",
       "      <td>624991</td>\n",
       "    </tr>\n",
       "    <tr>\n",
       "      <th>105950</th>\n",
       "      <td>207903717245367</td>\n",
       "      <td>48113980000</td>\n",
       "      <td>Census Tract 9800</td>\n",
       "      <td>26609569</td>\n",
       "      <td>0</td>\n",
       "      <td>G5020</td>\n",
       "      <td>S</td>\n",
       "      <td>207403717245367</td>\n",
       "      <td>48113980000</td>\n",
       "      <td>Census Tract 9800</td>\n",
       "      <td>26680183</td>\n",
       "      <td>0</td>\n",
       "      <td>G5020</td>\n",
       "      <td>S</td>\n",
       "      <td>26609569</td>\n",
       "      <td>0</td>\n",
       "    </tr>\n",
       "    <tr>\n",
       "      <th>105951</th>\n",
       "      <td>207903717245264</td>\n",
       "      <td>48113980100</td>\n",
       "      <td>Census Tract 9801</td>\n",
       "      <td>5549416</td>\n",
       "      <td>0</td>\n",
       "      <td>G5020</td>\n",
       "      <td>S</td>\n",
       "      <td>207403717245267</td>\n",
       "      <td>48113000406</td>\n",
       "      <td>Census Tract 4.06</td>\n",
       "      <td>6032764</td>\n",
       "      <td>530047</td>\n",
       "      <td>G5020</td>\n",
       "      <td>S</td>\n",
       "      <td>55983</td>\n",
       "      <td>0</td>\n",
       "    </tr>\n",
       "    <tr>\n",
       "      <th>105952</th>\n",
       "      <td>207903717245264</td>\n",
       "      <td>48113980100</td>\n",
       "      <td>Census Tract 9801</td>\n",
       "      <td>5549416</td>\n",
       "      <td>0</td>\n",
       "      <td>G5020</td>\n",
       "      <td>S</td>\n",
       "      <td>207403717245264</td>\n",
       "      <td>48113980100</td>\n",
       "      <td>Census Tract 9801</td>\n",
       "      <td>5493433</td>\n",
       "      <td>0</td>\n",
       "      <td>G5020</td>\n",
       "      <td>S</td>\n",
       "      <td>5493433</td>\n",
       "      <td>0</td>\n",
       "    </tr>\n",
       "    <tr>\n",
       "      <th>105953</th>\n",
       "      <td>2079015922093734</td>\n",
       "      <td>48113980200</td>\n",
       "      <td>Census Tract 9802</td>\n",
       "      <td>1005585</td>\n",
       "      <td>0</td>\n",
       "      <td>G5020</td>\n",
       "      <td>S</td>\n",
       "      <td>20740555940806</td>\n",
       "      <td>48113019206</td>\n",
       "      <td>Census Tract 192.06</td>\n",
       "      <td>3078687</td>\n",
       "      <td>0</td>\n",
       "      <td>G5020</td>\n",
       "      <td>S</td>\n",
       "      <td>1005585</td>\n",
       "      <td>0</td>\n",
       "    </tr>\n",
       "  </tbody>\n",
       "</table>\n",
       "<p>930 rows × 16 columns</p>\n",
       "</div>"
      ],
      "text/plain": [
       "            OID_TRACT_20 GEOID_TRACT_20  NAMELSAD_TRACT_20  AREALAND_TRACT_20  \\\n",
       "105024    20790555940585    48113000100     Census Tract 1            3077392   \n",
       "105025    20790555940585    48113000100     Census Tract 1            3077392   \n",
       "105026    20790555940585    48113000100     Census Tract 1            3077392   \n",
       "105027    20790555940586    48113000201  Census Tract 2.01            1762502   \n",
       "105028    20790555940588    48113000202  Census Tract 2.02            1571509   \n",
       "...                  ...            ...                ...                ...   \n",
       "105949  2079015922093404    48113021200   Census Tract 212           18522258   \n",
       "105950   207903717245367    48113980000  Census Tract 9800           26609569   \n",
       "105951   207903717245264    48113980100  Census Tract 9801            5549416   \n",
       "105952   207903717245264    48113980100  Census Tract 9801            5549416   \n",
       "105953  2079015922093734    48113980200  Census Tract 9802            1005585   \n",
       "\n",
       "        AREAWATER_TRACT_20 MTFCC_TRACT_20 FUNCSTAT_TRACT_20     OID_TRACT_10  \\\n",
       "105024              511268          G5020                 S   20740555940585   \n",
       "105025              511268          G5020                 S   20740555940601   \n",
       "105026              511268          G5020                 S   20740555940653   \n",
       "105027                   0          G5020                 S   20740555940586   \n",
       "105028               30513          G5020                 S   20740555940588   \n",
       "...                    ...            ...               ...              ...   \n",
       "105949             2824814          G5020                 S   20740555945159   \n",
       "105950                   0          G5020                 S  207403717245367   \n",
       "105951                   0          G5020                 S  207403717245267   \n",
       "105952                   0          G5020                 S  207403717245264   \n",
       "105953                   0          G5020                 S   20740555940806   \n",
       "\n",
       "       GEOID_TRACT_10    NAMELSAD_TRACT_10  AREALAND_TRACT_10  \\\n",
       "105024    48113000100       Census Tract 1            3064914   \n",
       "105025    48113001202   Census Tract 12.02            3208547   \n",
       "105026    48113008100      Census Tract 81            5349487   \n",
       "105027    48113000201    Census Tract 2.01            1762502   \n",
       "105028    48113000202    Census Tract 2.02            1571509   \n",
       "...               ...                  ...                ...   \n",
       "105949    48113015800     Census Tract 158           13182509   \n",
       "105950    48113980000    Census Tract 9800           26680183   \n",
       "105951    48113000406    Census Tract 4.06            6032764   \n",
       "105952    48113980100    Census Tract 9801            5493433   \n",
       "105953    48113019206  Census Tract 192.06            3078687   \n",
       "\n",
       "        AREAWATER_TRACT_10 MTFCC_TRACT_10 FUNCSTAT_TRACT_10  AREALAND_PART  \\\n",
       "105024              511268          G5020                 S        3064269   \n",
       "105025                   0          G5020                 S           4325   \n",
       "105026              792325          G5020                 S           8798   \n",
       "105027                   0          G5020                 S        1762502   \n",
       "105028               30513          G5020                 S        1571509   \n",
       "...                    ...            ...               ...            ...   \n",
       "105949              624991          G5020                 S       13182509   \n",
       "105950                   0          G5020                 S       26609569   \n",
       "105951              530047          G5020                 S          55983   \n",
       "105952                   0          G5020                 S        5493433   \n",
       "105953                   0          G5020                 S        1005585   \n",
       "\n",
       "        AREAWATER_PART  \n",
       "105024          511268  \n",
       "105025               0  \n",
       "105026               0  \n",
       "105027               0  \n",
       "105028           30513  \n",
       "...                ...  \n",
       "105949          624991  \n",
       "105950               0  \n",
       "105951               0  \n",
       "105952               0  \n",
       "105953               0  \n",
       "\n",
       "[930 rows x 16 columns]"
      ]
     },
     "execution_count": 23,
     "metadata": {},
     "output_type": "execute_result"
    }
   ],
   "source": [
    "df_tract_rel"
   ]
  },
  {
   "cell_type": "code",
   "execution_count": null,
   "metadata": {},
   "outputs": [],
   "source": [
    "# Merge df_acs_tract_2021 and df_acs_tract_2016 with df_tract_rel\n",
    "df_tract_temp = pd.merge(df_acs_tract_2021, df_tract_rel[['GEOID_TRACT_20', 'GEOID_TRACT_10']], left_on='GEOID_tract', right_on='GEOID_TRACT_20')\n",
    "df_tract_temp2 = pd.merge(df_tract_temp, df_acs_tract_2016, left_on='GEOID_TRACT_10', right_on='GEOID_tract')\n",
    "df_tract_temp2 = df_tract_temp2[['GEOID_tract_x','median_gross_rent','median_gross_rent_2016']].groupby('GEOID_tract_x').mean()\n",
    "\n",
    "# Change the column name\n",
    "df_tract_temp2 = df_tract_temp2.rename(columns={'median_gross_rent':'median_gross_rent_tract_2021', 'median_gross_rent_2016':'median_gross_rent_tract_2016'})\n",
    "\n",
    "# Merge df_acs and df_tract_temp2\n",
    "df_acs = pd.merge(df_acs, df_tract_temp2, left_on='GEOID_tract', right_on='GEOID_tract_x', how='left')"
   ]
  },
  {
   "cell_type": "code",
   "execution_count": null,
   "metadata": {},
   "outputs": [],
   "source": []
  },
  {
   "cell_type": "code",
   "execution_count": null,
   "metadata": {},
   "outputs": [],
   "source": []
  },
  {
   "cell_type": "code",
   "execution_count": null,
   "metadata": {},
   "outputs": [],
   "source": []
  },
  {
   "cell_type": "code",
   "execution_count": null,
   "metadata": {},
   "outputs": [],
   "source": []
  }
 ],
 "metadata": {
  "kernelspec": {
   "display_name": "base",
   "language": "python",
   "name": "python3"
  },
  "language_info": {
   "codemirror_mode": {
    "name": "ipython",
    "version": 3
   },
   "file_extension": ".py",
   "mimetype": "text/x-python",
   "name": "python",
   "nbconvert_exporter": "python",
   "pygments_lexer": "ipython3",
   "version": "3.11.4"
  },
  "orig_nbformat": 4
 },
 "nbformat": 4,
 "nbformat_minor": 2
}
