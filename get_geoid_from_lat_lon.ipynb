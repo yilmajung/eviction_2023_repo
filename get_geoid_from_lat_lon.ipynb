{
 "cells": [
  {
   "cell_type": "code",
   "execution_count": 1,
   "metadata": {},
   "outputs": [
    {
     "data": {
      "text/plain": [
       "{'DXF': 'rw',\n",
       " 'CSV': 'raw',\n",
       " 'OpenFileGDB': 'raw',\n",
       " 'ESRIJSON': 'r',\n",
       " 'ESRI Shapefile': 'raw',\n",
       " 'FlatGeobuf': 'raw',\n",
       " 'GeoJSON': 'raw',\n",
       " 'GeoJSONSeq': 'raw',\n",
       " 'GPKG': 'raw',\n",
       " 'GML': 'rw',\n",
       " 'OGR_GMT': 'rw',\n",
       " 'GPX': 'rw',\n",
       " 'MapInfo File': 'raw',\n",
       " 'DGN': 'raw',\n",
       " 'S57': 'r',\n",
       " 'SQLite': 'raw',\n",
       " 'TopoJSON': 'r'}"
      ]
     },
     "execution_count": 1,
     "metadata": {},
     "output_type": "execute_result"
    }
   ],
   "source": [
    "# Import the requisite packages\n",
    "import pandas as pd\n",
    "import geopandas as gpd\n",
    "import matplotlib.pyplot as plt\n",
    "import fiona\n",
    "fiona.supported_drivers"
   ]
  },
  {
   "cell_type": "code",
   "execution_count": 13,
   "metadata": {},
   "outputs": [],
   "source": [
    "# Load Dallas top filers data\n",
    "df_top_nonpayment = pd.read_csv('data/df_nonpay_100_filer.csv')"
   ]
  },
  {
   "cell_type": "code",
   "execution_count": 14,
   "metadata": {},
   "outputs": [
    {
     "name": "stderr",
     "output_type": "stream",
     "text": [
      "/Users/wooyongjung/anaconda3/lib/python3.11/site-packages/IPython/core/interactiveshell.py:3466: FutureWarning: The `op` parameter is deprecated and will be removed in a future release. Please use the `predicate` parameter instead.\n",
      "  if await self.run_code(code, result, async_=asy):\n"
     ]
    }
   ],
   "source": [
    "# Convert the pandas dataframe to geopandas dataframe\n",
    "df_top_gpd = gpd.GeoDataFrame(df_top_nonpayment, geometry=gpd.points_from_xy(df_top_nonpayment.X, df_top_nonpayment.Y, crs=4326))\n",
    "\n",
    "# Dallas County Census Block Group shapefile\n",
    "data_path = '/Users/wooyongjung/WJ_Projects/eviction_2023_repo/data/tl_2021_48_bg/tl_2021_48_bg.shp'\n",
    "census_bg = gpd.read_file(data_path)\n",
    "census_bg = census_bg.to_crs(4326)\n",
    "census_bg = census_bg[census_bg['GEOID'].str.startswith('48113')]\n",
    "\n",
    "# Aggregate the eviction locations to the Dallas County census BG\n",
    "top_bldg_bg = gpd.sjoin(census_bg, df_top_gpd, how='left', op='contains')"
   ]
  },
  {
   "cell_type": "code",
   "execution_count": 15,
   "metadata": {},
   "outputs": [],
   "source": [
    "# Select needed columns\n",
    "top_bldg_bg = top_bldg_bg[['plaintiff_name','case_number','X','Y','geometry','GEOID']]"
   ]
  },
  {
   "cell_type": "code",
   "execution_count": 17,
   "metadata": {},
   "outputs": [
    {
     "data": {
      "text/html": [
       "<div>\n",
       "<style scoped>\n",
       "    .dataframe tbody tr th:only-of-type {\n",
       "        vertical-align: middle;\n",
       "    }\n",
       "\n",
       "    .dataframe tbody tr th {\n",
       "        vertical-align: top;\n",
       "    }\n",
       "\n",
       "    .dataframe thead th {\n",
       "        text-align: right;\n",
       "    }\n",
       "</style>\n",
       "<table border=\"1\" class=\"dataframe\">\n",
       "  <thead>\n",
       "    <tr style=\"text-align: right;\">\n",
       "      <th></th>\n",
       "      <th>plaintiff_name</th>\n",
       "      <th>case_number</th>\n",
       "      <th>X</th>\n",
       "      <th>Y</th>\n",
       "      <th>geometry</th>\n",
       "      <th>GEOID</th>\n",
       "    </tr>\n",
       "  </thead>\n",
       "  <tbody>\n",
       "    <tr>\n",
       "      <th>120</th>\n",
       "      <td>ALDEN SHORT INC</td>\n",
       "      <td>1798.0</td>\n",
       "      <td>-96.892691</td>\n",
       "      <td>32.930098</td>\n",
       "      <td>POLYGON ((-96.90265 32.93862, -96.90255 32.938...</td>\n",
       "      <td>481130139012</td>\n",
       "    </tr>\n",
       "    <tr>\n",
       "      <th>149</th>\n",
       "      <td>CSH 20161 BORROWER LLC</td>\n",
       "      <td>213.0</td>\n",
       "      <td>-96.943161</td>\n",
       "      <td>32.593518</td>\n",
       "      <td>POLYGON ((-96.95888 32.59957, -96.95886 32.599...</td>\n",
       "      <td>481130165221</td>\n",
       "    </tr>\n",
       "    <tr>\n",
       "      <th>278</th>\n",
       "      <td>SIGNATURE LEASING  MGMT INC</td>\n",
       "      <td>311.0</td>\n",
       "      <td>-96.943792</td>\n",
       "      <td>32.580313</td>\n",
       "      <td>POLYGON ((-96.95973 32.57677, -96.95951 32.576...</td>\n",
       "      <td>481130166263</td>\n",
       "    </tr>\n",
       "    <tr>\n",
       "      <th>278</th>\n",
       "      <td>S2 HIGH POINTE LLC</td>\n",
       "      <td>160.0</td>\n",
       "      <td>-96.942595</td>\n",
       "      <td>32.586811</td>\n",
       "      <td>POLYGON ((-96.95973 32.57677, -96.95951 32.576...</td>\n",
       "      <td>481130166263</td>\n",
       "    </tr>\n",
       "    <tr>\n",
       "      <th>346</th>\n",
       "      <td>PLEASANT RUN APARTMENTS</td>\n",
       "      <td>171.0</td>\n",
       "      <td>-96.857752</td>\n",
       "      <td>32.605918</td>\n",
       "      <td>POLYGON ((-96.87484 32.61063, -96.87480 32.612...</td>\n",
       "      <td>481130166182</td>\n",
       "    </tr>\n",
       "    <tr>\n",
       "      <th>...</th>\n",
       "      <td>...</td>\n",
       "      <td>...</td>\n",
       "      <td>...</td>\n",
       "      <td>...</td>\n",
       "      <td>...</td>\n",
       "      <td>...</td>\n",
       "    </tr>\n",
       "    <tr>\n",
       "      <th>17904</th>\n",
       "      <td>THE LINK</td>\n",
       "      <td>197.0</td>\n",
       "      <td>-96.732497</td>\n",
       "      <td>32.906481</td>\n",
       "      <td>POLYGON ((-96.73835 32.90042, -96.73812 32.901...</td>\n",
       "      <td>481130078101</td>\n",
       "    </tr>\n",
       "    <tr>\n",
       "      <th>17962</th>\n",
       "      <td>CITY NORTH</td>\n",
       "      <td>307.0</td>\n",
       "      <td>-96.778227</td>\n",
       "      <td>32.925100</td>\n",
       "      <td>POLYGON ((-96.78633 32.92929, -96.78630 32.930...</td>\n",
       "      <td>481130136103</td>\n",
       "    </tr>\n",
       "    <tr>\n",
       "      <th>18060</th>\n",
       "      <td>11760 FERGUSON RD LLC</td>\n",
       "      <td>161.0</td>\n",
       "      <td>-96.649580</td>\n",
       "      <td>32.855095</td>\n",
       "      <td>POLYGON ((-96.65101 32.85411, -96.64958 32.855...</td>\n",
       "      <td>481130126041</td>\n",
       "    </tr>\n",
       "    <tr>\n",
       "      <th>18060</th>\n",
       "      <td>EYAL DALLAS HOLDINGS LLC</td>\n",
       "      <td>648.0</td>\n",
       "      <td>-96.649463</td>\n",
       "      <td>32.855178</td>\n",
       "      <td>POLYGON ((-96.65101 32.85411, -96.64958 32.855...</td>\n",
       "      <td>481130126041</td>\n",
       "    </tr>\n",
       "    <tr>\n",
       "      <th>18121</th>\n",
       "      <td>RIVER OAKS MHC</td>\n",
       "      <td>163.0</td>\n",
       "      <td>-96.693191</td>\n",
       "      <td>32.602038</td>\n",
       "      <td>POLYGON ((-96.70490 32.59445, -96.70490 32.595...</td>\n",
       "      <td>481130169032</td>\n",
       "    </tr>\n",
       "  </tbody>\n",
       "</table>\n",
       "<p>100 rows × 6 columns</p>\n",
       "</div>"
      ],
      "text/plain": [
       "                    plaintiff_name  case_number          X          Y  \\\n",
       "120                ALDEN SHORT INC       1798.0 -96.892691  32.930098   \n",
       "149         CSH 20161 BORROWER LLC        213.0 -96.943161  32.593518   \n",
       "278    SIGNATURE LEASING  MGMT INC        311.0 -96.943792  32.580313   \n",
       "278             S2 HIGH POINTE LLC        160.0 -96.942595  32.586811   \n",
       "346        PLEASANT RUN APARTMENTS        171.0 -96.857752  32.605918   \n",
       "...                            ...          ...        ...        ...   \n",
       "17904                     THE LINK        197.0 -96.732497  32.906481   \n",
       "17962                   CITY NORTH        307.0 -96.778227  32.925100   \n",
       "18060        11760 FERGUSON RD LLC        161.0 -96.649580  32.855095   \n",
       "18060     EYAL DALLAS HOLDINGS LLC        648.0 -96.649463  32.855178   \n",
       "18121               RIVER OAKS MHC        163.0 -96.693191  32.602038   \n",
       "\n",
       "                                                geometry         GEOID  \n",
       "120    POLYGON ((-96.90265 32.93862, -96.90255 32.938...  481130139012  \n",
       "149    POLYGON ((-96.95888 32.59957, -96.95886 32.599...  481130165221  \n",
       "278    POLYGON ((-96.95973 32.57677, -96.95951 32.576...  481130166263  \n",
       "278    POLYGON ((-96.95973 32.57677, -96.95951 32.576...  481130166263  \n",
       "346    POLYGON ((-96.87484 32.61063, -96.87480 32.612...  481130166182  \n",
       "...                                                  ...           ...  \n",
       "17904  POLYGON ((-96.73835 32.90042, -96.73812 32.901...  481130078101  \n",
       "17962  POLYGON ((-96.78633 32.92929, -96.78630 32.930...  481130136103  \n",
       "18060  POLYGON ((-96.65101 32.85411, -96.64958 32.855...  481130126041  \n",
       "18060  POLYGON ((-96.65101 32.85411, -96.64958 32.855...  481130126041  \n",
       "18121  POLYGON ((-96.70490 32.59445, -96.70490 32.595...  481130169032  \n",
       "\n",
       "[100 rows x 6 columns]"
      ]
     },
     "execution_count": 17,
     "metadata": {},
     "output_type": "execute_result"
    }
   ],
   "source": [
    "# Drop the NaN values in plaintiff_name\n",
    "top_bldg_bg = top_bldg_bg.dropna(subset=['plaintiff_name'])\n",
    "top_bldg_bg"
   ]
  },
  {
   "cell_type": "code",
   "execution_count": 19,
   "metadata": {},
   "outputs": [],
   "source": [
    "# Save the aggregated data\n",
    "top_bldg_bg.to_csv('data/df_nonpay_100_geoid.csv', index=False)"
   ]
  }
 ],
 "metadata": {
  "kernelspec": {
   "display_name": "base",
   "language": "python",
   "name": "python3"
  },
  "language_info": {
   "codemirror_mode": {
    "name": "ipython",
    "version": 3
   },
   "file_extension": ".py",
   "mimetype": "text/x-python",
   "name": "python",
   "nbconvert_exporter": "python",
   "pygments_lexer": "ipython3",
   "version": "3.11.4"
  },
  "orig_nbformat": 4
 },
 "nbformat": 4,
 "nbformat_minor": 2
}
